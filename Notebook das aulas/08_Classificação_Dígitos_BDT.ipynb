{
  "cells": [
    {
      "cell_type": "markdown",
      "metadata": {
        "id": "view-in-github",
        "colab_type": "text"
      },
      "source": [
        "<a href=\"https://colab.research.google.com/github/Rio-HEPLab/ML4Physics/blob/PPGF-2025-1/08_Classifica%C3%A7%C3%A3o_D%C3%ADgitos_BDT.ipynb\" target=\"_parent\"><img src=\"https://colab.research.google.com/assets/colab-badge.svg\" alt=\"Open In Colab\"/></a>"
      ]
    },
    {
      "cell_type": "markdown",
      "source": [
        "# BDT para classificacão de Dígitos\n",
        "\n",
        "Passo a passo."
      ],
      "metadata": {
        "id": "QcAWgYCnFxcp"
      }
    },
    {
      "cell_type": "markdown",
      "source": [
        "### Passo \"Zero\":\n",
        "- importar módulos e definir algumas variáveis de controle"
      ],
      "metadata": {
        "id": "PdEdXjJvGF_w"
      }
    },
    {
      "cell_type": "code",
      "execution_count": null,
      "metadata": {
        "colab": {
          "base_uri": "https://localhost:8080/"
        },
        "id": "eth4gcAwUHag",
        "outputId": "d18f117e-2f3d-4e48-8b6a-43570c5e89a6"
      },
      "outputs": [
        {
          "output_type": "stream",
          "name": "stdout",
          "text": [
            "1.6.1\n"
          ]
        }
      ],
      "source": [
        "import numpy as np\n",
        "import pandas as pd\n",
        "import matplotlib.pyplot as plt\n",
        "from joblib import dump, load\n",
        "\n",
        "import sklearn\n",
        "print ( sklearn.__version__ )\n",
        "\n",
        "from sklearn.tree import DecisionTreeClassifier\n",
        "from sklearn.ensemble import AdaBoostClassifier"
      ]
    },
    {
      "cell_type": "code",
      "execution_count": null,
      "metadata": {
        "id": "65OPlsvOT8qN"
      },
      "outputs": [],
      "source": [
        "train_model = True\n",
        "run_grid_search = True\n",
        "save_model = True\n",
        "\n",
        "model_path = \"\"\n",
        "scaler_path = \"\"\n",
        "if not train_model:\n",
        "     model_path = \"ada_clf.joblib\"\n",
        "#    model_path = \"models/BDT/ada_clf.joblib\"\n",
        "     scaler_path = \"standard_scaler.joblib\"\n",
        "#    scaler_path = \"models/BDT/standard_scaler.joblib\""
      ]
    },
    {
      "cell_type": "markdown",
      "metadata": {
        "id": "Azo22KMNU4Uw"
      },
      "source": [
        "### 1º Importar amostra de dígitos"
      ]
    },
    {
      "cell_type": "code",
      "execution_count": null,
      "metadata": {
        "colab": {
          "base_uri": "https://localhost:8080/"
        },
        "id": "ndOpxbMNUILQ",
        "outputId": "305b3fd2-490c-4a95-cfc7-f1e9c5683182"
      },
      "outputs": [
        {
          "output_type": "stream",
          "name": "stdout",
          "text": [
            "(60000, 784)\n",
            "(10000, 784)\n"
          ]
        }
      ],
      "source": [
        "def sort_by_target(mnist):\n",
        "    reorder_train = np.array(sorted([(target, i) for i, target in enumerate(mnist.target[:60000])]))[:, 1]\n",
        "    reorder_test = np.array(sorted([(target, i) for i, target in enumerate(mnist.target[60000:])]))[:, 1]\n",
        "    mnist.data[:60000] = mnist.data[reorder_train]\n",
        "    mnist.target[:60000] = mnist.target[reorder_train]\n",
        "    mnist.data[60000:] = mnist.data[reorder_test + 60000]\n",
        "    mnist.target[60000:] = mnist.target[reorder_test + 60000]\n",
        "\n",
        "from sklearn.datasets import fetch_openml\n",
        "mnist = fetch_openml('mnist_784', version=1, cache=True, as_frame=False)\n",
        "mnist.target = mnist.target.astype(np.int8)\n",
        "sort_by_target(mnist)\n",
        "X_train_raw = mnist.data[:60000]\n",
        "y_train = mnist.target[:60000]\n",
        "X_test_raw = mnist.data[60000:]\n",
        "y_test = mnist.target[60000:]\n",
        "\n",
        "print ( X_train_raw.shape )\n",
        "print ( X_test_raw.shape )"
      ]
    },
    {
      "cell_type": "markdown",
      "metadata": {
        "id": "6vEsO3RNVIEV"
      },
      "source": [
        "### 2º Renormalização dos dados"
      ]
    },
    {
      "cell_type": "code",
      "execution_count": null,
      "metadata": {
        "colab": {
          "base_uri": "https://localhost:8080/"
        },
        "id": "FcKdUJSkVG7d",
        "outputId": "f578f048-8338-48c0-a537-dadcfd5d2b2b"
      },
      "outputs": [
        {
          "output_type": "stream",
          "name": "stdout",
          "text": [
            "StandardScaler()\n",
            "3\n",
            "[ 0.          0.          0.          0.          0.          0.\n",
            "  0.          0.          0.          0.          0.          0.\n",
            " -0.00441808 -0.00575482 -0.00408252 -0.00408252  0.          0.\n",
            "  0.          0.          0.          0.          0.          0.\n",
            "  0.          0.          0.          0.          0.          0.\n",
            "  0.          0.         -0.00408252 -0.00470969 -0.00879935 -0.01159056\n",
            " -0.01475898 -0.01928485 -0.0246718  -0.02907103 -0.03059266 -0.03116401\n",
            " -0.03196287 -0.03020254 -0.03131022 -0.0283834  -0.02311919 -0.01916663\n",
            " -0.0167723  -0.01099636 -0.00832486 -0.00438069  0.          0.\n",
            "  0.          0.          0.          0.         -0.00408252 -0.00539535\n",
            " -0.00852241 -0.01198504 -0.01765348 -0.0277109  -0.03702009 -0.05215128\n",
            " -0.0670362  -0.08301705 -0.0993793  -0.11518413 -0.12913326 -0.13839468\n",
            " -0.13888363 -0.13184344 -0.12042952 -0.10189079 -0.0786049  -0.05699561\n",
            " -0.03965768 -0.02372839 -0.01408835 -0.00783084  0.          0.\n",
            "  0.          0.         -0.00536838 -0.00887061 -0.01407082 -0.02214681\n",
            " -0.03518014 -0.05502368 -0.07909613 -0.10764901 -0.13716994 -0.16710576\n",
            " -0.19600876 -0.22449111 -0.24865599 -0.26211797 -0.2625969  -0.2478559\n",
            " -0.221947   -0.1872114  -0.14764013 -0.10816436 -0.07681211 -0.0470753\n",
            " -0.03020197 -0.01524124 -0.00528372  0.          0.         -0.00408252\n",
            " -0.00776342 -0.01489325 -0.02396275 -0.0503409  -0.07876747 -0.11618154\n",
            " -0.16124756 -0.21196164 -0.26689873 -0.32567801 -0.39024155 -0.45207638\n",
            " -0.49939798 -0.52342832 -0.51761889 -0.48090242 -0.42307969 -0.35674039\n",
            " -0.28368365 -0.21683666 -0.15852438 -0.10878458 -0.07092253 -0.03895348\n",
            " -0.01425239 -0.0057705   0.          0.         -0.01190174 -0.02205016\n",
            " -0.05183807 -0.0906597  -0.13966711 -0.19708212 -0.26438473 -0.34073044\n",
            " -0.39570842  0.56889228  0.75400463  0.5548641   0.7362153   1.18345211\n",
            "  0.02851033 -0.74381141 -0.6665595  -0.5562504  -0.44764565 -0.34762461\n",
            " -0.26084091 -0.19030605 -0.13108013 -0.07484604 -0.03193013 -0.00820892\n",
            "  0.         -0.00557015 -0.01566193 -0.03636566 -0.07902431 -0.13328909\n",
            " -0.19915441 -0.27542969 -0.36333595 -0.43824283  0.68057305  1.80421592\n",
            "  1.52911309  1.33100961  1.20791723  1.10297085  1.17766993 -0.5263741\n",
            " -0.85654422 -0.72455973 -0.5806059  -0.45215876 -0.33932343 -0.24893037\n",
            " -0.1729397  -0.10410424 -0.04831762 -0.01470802 -0.00408252 -0.01323101\n",
            " -0.02624382 -0.05915859 -0.11300485 -0.17844153 -0.25800481 -0.35091181\n",
            " -0.45909822 -0.07476434  1.7713391   1.48785793  1.1770651   0.17209049\n",
            "  0.66322629 -0.08534834  1.09468453  1.1504372  -0.68973271 -0.86295358\n",
            " -0.69048024 -0.53290132 -0.39754744 -0.28768128 -0.19700703 -0.12122894\n",
            " -0.05680861 -0.01539067 -0.00502549 -0.01732052 -0.04308054 -0.0852489\n",
            " -0.13945837 -0.21088331 -0.30001798 -0.40728153  0.51176491  1.4779733\n",
            "  1.37741778  0.32173482 -0.79593524 -1.10798073 -1.10659099 -0.42725732\n",
            "  1.18512413  1.11562325 -0.7475138  -0.9129785  -0.73919131 -0.5710055\n",
            " -0.423671   -0.29819621 -0.19768614 -0.12068382 -0.05393563 -0.01350554\n",
            " -0.00590571 -0.02110967 -0.05298904 -0.09307849 -0.15039873 -0.22619102\n",
            " -0.32364534 -0.44213122  0.87901738  1.21535913 -0.59132495 -0.99238771\n",
            " -0.99508845 -0.9495566  -0.90890463 -0.07713623  1.36895746 -0.17986192\n",
            " -0.99948655 -0.90150861 -0.73668152 -0.56758942 -0.4201719  -0.2901746\n",
            " -0.18148235 -0.10493977 -0.04721317 -0.01413087 -0.00577281 -0.02263228\n",
            " -0.05280317 -0.09220581 -0.1474517  -0.22728459 -0.33242832 -0.46269616\n",
            " -0.61903352 -0.78428269 -0.90820988 -0.93137298 -0.86957693 -0.79705953\n",
            " -0.66457213  1.17384856  1.38844969 -0.61442017 -0.96213107 -0.86347326\n",
            " -0.70132425 -0.53739656 -0.39677103 -0.27122264 -0.15932446 -0.08125841\n",
            " -0.03695087 -0.0118734  -0.00705517 -0.02077118 -0.04720356 -0.08200384\n",
            " -0.13745728 -0.22518196 -0.33849238 -0.482935   -0.64828822 -0.80980531\n",
            " -0.89646046 -0.87178559 -0.7849761  -0.73254174  0.72839656  1.58304148\n",
            "  0.83099431 -0.90495036 -0.95554794 -0.8249029  -0.65598784 -0.49936419\n",
            " -0.36957331 -0.25846441 -0.14969571 -0.06111136 -0.02801157 -0.0091251\n",
            " -0.00530435 -0.0162384  -0.03637861 -0.06858201 -0.1273685  -0.22614336\n",
            " -0.35220291 -0.50758351 -0.67944964 -0.82825105 -0.88883004 -0.74946836\n",
            " -0.0164137   0.91830626  1.33752039  1.37394227  1.28331827  0.6337995\n",
            " -0.35441237 -0.73807682 -0.61674936 -0.47007288 -0.35512441 -0.25540754\n",
            " -0.15382451 -0.05245428 -0.02150587 -0.00992198 -0.00408252 -0.01093439\n",
            " -0.0255448  -0.05707308 -0.12466202 -0.23849817 -0.3732589  -0.53313607\n",
            " -0.70209414 -0.83745005 -0.34415486  0.95922572  1.57150594  1.44443531\n",
            "  1.25317927  0.7708198   0.62024012  1.05574835  1.30094213  1.03008063\n",
            " -0.41146003 -0.46091024 -0.35550055 -0.26354918 -0.16450369 -0.05951303\n",
            " -0.02336867 -0.00740432 -0.00408252 -0.00798835 -0.01829645 -0.05133943\n",
            " -0.1293464  -0.25752139 -0.39501133 -0.55042172 -0.70732309 -0.82604982\n",
            "  0.39179698  1.48283375  1.03657078 -0.12928103 -0.54751414 -1.13724891\n",
            " -1.24819354 -0.63255879  0.26113957  1.67313264  0.63754293 -0.47201999\n",
            " -0.36837041 -0.27332532 -0.17338663 -0.06894272 -0.02464466 -0.0069849\n",
            " -0.00477028 -0.00418943 -0.01864826 -0.05327212 -0.14042052 -0.27718062\n",
            " -0.41220901 -0.5540034  -0.69200544 -0.79258314 -0.74059213 -0.29756664\n",
            " -0.7943956  -1.09410266 -1.20489455 -1.27242541 -1.18363406 -1.07835249\n",
            " -0.06682482  1.68604937  0.93866876 -0.48675394 -0.38089678 -0.27829889\n",
            " -0.17549155 -0.07702614 -0.0296263  -0.00911024 -0.00408252 -0.00670728\n",
            " -0.02160143 -0.06070769 -0.15702241 -0.29716317 -0.4223068  -0.54572671\n",
            " -0.65910029 -0.74125055 -0.78837956 -0.83396729 -0.9194134  -1.02595562\n",
            " -1.12277551 -1.14506316 -1.0794597  -0.99988631 -0.01264694  1.69802655\n",
            "  0.91291517 -0.49307976 -0.37987428 -0.27351765 -0.17353912 -0.08405015\n",
            " -0.03416244 -0.00893965  0.         -0.00893209 -0.02539776 -0.07390018\n",
            " -0.17786005 -0.31338343 -0.42901306 -0.53508894 -0.62078199 -0.68268924\n",
            " -0.72347014 -0.76555898 -0.82507042 -0.91939024 -1.00626013 -1.03281505\n",
            " -1.01067269 -0.9515093   0.01268438  1.69351198 -0.11710038 -0.48515629\n",
            " -0.36804198 -0.26078182 -0.16833376 -0.08854264 -0.03593623 -0.01071081\n",
            " -0.00590597 -0.00635211 -0.03332021 -0.09130486 -0.19910803 -0.32796741\n",
            " -0.43899543 -0.53445409 -0.6059479  -0.65940509 -0.69784837 -0.73042289\n",
            " -0.78112567 -0.87168855 -0.95845445 -1.01124661 -1.01044884 -0.95294508\n",
            "  0.38874725  1.6951103  -0.3431014  -0.46342915 -0.34877114 -0.24588475\n",
            " -0.15820094 -0.08543796 -0.03155796 -0.00976041 -0.00408252 -0.01128166\n",
            " -0.0397571  -0.10385233 -0.21198097 -0.33747789 -0.45170193 -0.55213161\n",
            " -0.63188648 -0.69322439 -0.7383849  -0.77073077 -0.82876952 -0.91927271\n",
            " -1.0088061  -1.06082828 -1.04812373  0.13112956  1.43768764  0.50839925\n",
            " -0.51165472 -0.42707461 -0.31681048 -0.2206858  -0.14105726 -0.07817104\n",
            " -0.02918258 -0.00802579  0.         -0.0103421  -0.04327362 -0.10916701\n",
            " -0.20903257 -0.33022464 -0.45487527 -0.46338641 -0.29186344 -0.76060123\n",
            " -0.8287575  -0.88650819 -0.9598404  -1.05138397 -1.12090482 -1.12894344\n",
            " -0.77506606  1.13287468  0.82721634 -0.58603501 -0.48806277 -0.36895114\n",
            " -0.26929223 -0.18721262 -0.12162743 -0.06649382 -0.026033   -0.00577332\n",
            " -0.00408252 -0.0100095  -0.04049873 -0.09998471 -0.18820172 -0.29963131\n",
            " -0.42724847  0.93056162  0.27664896 -0.80158752 -0.90865685 -1.00894524\n",
            " -1.10362289 -1.1813322  -1.19218568 -0.03485854  1.15697368  1.19565202\n",
            "  0.28460495 -0.52269449 -0.39906543 -0.29670064 -0.21262622 -0.14869396\n",
            " -0.09689573 -0.05093109 -0.02021443 -0.00408252 -0.00408252 -0.00600491\n",
            " -0.03370635 -0.07897245 -0.14774138 -0.24325025 -0.20629049  1.91952647\n",
            "  0.93950576 -0.75670418 -0.88873651 -1.00217059 -1.08959257 -0.86773569\n",
            "  0.22622953  1.29218021  1.22402201 -0.3321922  -0.52359508 -0.40214203\n",
            " -0.30306916 -0.22168084 -0.15936594 -0.1100607  -0.07003976 -0.03713562\n",
            " -0.01220141 -0.00408252  0.          0.         -0.02273873 -0.0519054\n",
            " -0.09998802 -0.16843162 -0.26031072  1.05141697  2.59001419  1.9237492\n",
            "  1.58500656  1.38312907  1.29628889  1.33236293  1.51471874  0.49003765\n",
            " -0.52747526 -0.49207119 -0.37992817 -0.28881739 -0.21344094 -0.15366778\n",
            " -0.10912601 -0.07409876 -0.04331719 -0.01934379 -0.01040248  0.\n",
            "  0.          0.         -0.0103527  -0.0287501  -0.05756837 -0.09531054\n",
            " -0.15360976 -0.19898941  0.07527167  1.47667268  2.14588462  2.35666334\n",
            "  1.25566553  0.87282555  0.59822472 -0.4425811  -0.39580505 -0.32478945\n",
            " -0.25570503 -0.19461171 -0.14457421 -0.10177354 -0.07142522 -0.04777776\n",
            " -0.02575244 -0.01137942 -0.00475287  0.          0.          0.\n",
            " -0.0066643  -0.01096421 -0.02760445 -0.0515536  -0.08677185 -0.12839203\n",
            " -0.1757759  -0.22305444 -0.26664029 -0.29484432 -0.30750543 -0.30518012\n",
            " -0.28923178 -0.26323129 -0.23372359 -0.20102782 -0.16369105 -0.127666\n",
            " -0.09396514 -0.06568326 -0.04592653 -0.02871881 -0.01569304 -0.00567531\n",
            " -0.00408252  0.          0.          0.          0.         -0.00408252\n",
            " -0.01512139 -0.03136955 -0.05333023 -0.07922827 -0.10837665 -0.13397907\n",
            " -0.15751318 -0.17510551 -0.1826269  -0.18053534 -0.16987649 -0.15315731\n",
            " -0.13543312 -0.1164803  -0.09395125 -0.07257689 -0.05236436 -0.036383\n",
            " -0.02150306 -0.01301928 -0.00449422 -0.00408252  0.          0.\n",
            "  0.          0.          0.          0.         -0.00579016 -0.00905385\n",
            " -0.01600544 -0.02211976 -0.026846   -0.03184506 -0.04374841 -0.04728295\n",
            " -0.0531388  -0.05662282 -0.06033836 -0.056295   -0.05136654 -0.04263228\n",
            " -0.03317103 -0.02246288 -0.01606909 -0.0114322  -0.00900729 -0.00577039\n",
            "  0.          0.          0.          0.        ]\n"
          ]
        }
      ],
      "source": [
        "from sklearn.preprocessing import StandardScaler\n",
        "\n",
        "scaler = None\n",
        "X_train = None\n",
        "if train_model:\n",
        "    scaler = StandardScaler()\n",
        "    X_train = scaler.fit_transform( X_train_raw )\n",
        "else:\n",
        "    scaler = load( scaler_path )\n",
        "    X_train = scaler.transform( X_train_raw )\n",
        "X_test  = scaler.transform( X_test_raw )\n",
        "\n",
        "print ( scaler )\n",
        "\n",
        "if train_model and save_model:\n",
        "     dump( scaler, \"standard_scaler.joblib\")\n",
        "#    dump( scaler, \"models/BDT/standard_scaler.joblib\" )\n",
        "\n",
        "idx = 20000\n",
        "print ( y_train[ idx ] )\n",
        "print ( X_train[ idx ] )"
      ]
    },
    {
      "cell_type": "code",
      "execution_count": null,
      "metadata": {
        "colab": {
          "base_uri": "https://localhost:8080/",
          "height": 847
        },
        "id": "Oeic-Yz9VPpt",
        "outputId": "48fa58f3-76bf-40a9-a09d-bb126f12107e"
      },
      "outputs": [
        {
          "output_type": "execute_result",
          "data": {
            "text/plain": [
              "<matplotlib.image.AxesImage at 0x7b75dcc932d0>"
            ]
          },
          "metadata": {},
          "execution_count": 7
        },
        {
          "output_type": "display_data",
          "data": {
            "text/plain": [
              "<Figure size 1000x1000 with 1 Axes>"
            ],
            "image/png": "[encoded data removed]"
          },
          "metadata": {}
        }
      ],
      "source": [
        "fig = plt.figure( figsize=(10,10) )\n",
        "plt.imshow( X_train_raw[ idx ].reshape(28,28), cmap='binary' )"
      ]
    },
    {
      "cell_type": "markdown",
      "metadata": {
        "id": "Wbc4SQB_UIvP"
      },
      "source": [
        "### 3º Treinamento\n",
        "#### Examinar o espaço dos hyper-parámetros  (\"Esquadrinhar\")"
      ]
    },
    {
      "cell_type": "code",
      "execution_count": null,
      "metadata": {
        "id": "d60gu_8uVimN"
      },
      "outputs": [],
      "source": [
        "#shuffle_index = np.random.permutation( 60000 )\n",
        "#X_train_shuffle, y_train_shuffle = X_train[ shuffle_index ], y_train[ shuffle_index ]\n",
        "\n",
        "from sklearn.utils import shuffle\n",
        "X_train_shuffle, y_train_shuffle = shuffle(X_train,y_train, random_state=42,n_samples=6000)"
      ]
    },
    {
      "cell_type": "code",
      "execution_count": null,
      "metadata": {
        "colab": {
          "base_uri": "https://localhost:8080/"
        },
        "id": "nlqzcg5xUJYw",
        "outputId": "bfa0a8ca-2d20-4c07-d37a-a553013a8cb8"
      },
      "outputs": [
        {
          "metadata": {
            "tags": null
          },
          "name": "stdout",
          "output_type": "stream",
          "text": [
            "2025/04/28 15:47:32\n",
            "Fitting 3 folds for each of 10 candidates, totalling 30 fits\n"
          ]
        },
        {
          "metadata": {
            "tags": null
          },
          "name": "stderr",
          "output_type": "stream",
          "text": [
            "/usr/local/lib/python3.11/dist-packages/sklearn/ensemble/_weight_boosting.py:519: FutureWarning: The parameter 'algorithm' is deprecated in 1.6 and has no effect. It will be removed in version 1.8.\n",
            "  warnings.warn(\n"
          ]
        },
        {
          "metadata": {
            "tags": null
          },
          "name": "stdout",
          "output_type": "stream",
          "text": [
            "{'n_estimators': np.int64(300), 'learning_rate': np.float64(0.30000000000000004), 'estimator__min_samples_split': np.int64(3), 'estimator__max_depth': np.int64(4)}\n",
            "0.9128333333333334\n",
            "{'mean_fit_time': array([464.70863032, 393.41519133, 451.89133151, 449.28307827,\n",
            "       234.56987135, 159.87123148, 278.78568641, 316.54889544,\n",
            "       417.39876342, 225.57401721]), 'std_fit_time': array([ 1.99129252,  4.60677361,  5.34568479,  5.65045812,  3.60077628,\n",
            "        1.83704959,  1.8950941 ,  2.9546416 ,  7.82303615, 53.53271422]), 'mean_score_time': array([4.25134857, 6.88396247, 4.94845366, 3.79434013, 3.22542071,\n",
            "       2.25207408, 2.41472141, 3.83075142, 4.52947481, 2.67728241]), 'std_score_time': array([0.46956799, 0.38085105, 0.16080753, 0.27155956, 0.31471388,\n",
            "       0.13408979, 0.02286862, 0.40327992, 1.22215292, 2.05932964]), 'param_n_estimators': masked_array(data=[300, 500, 400, 300, 200, 200, 200, 300, 400, 400],\n",
            "             mask=[False, False, False, False, False, False, False, False,\n",
            "                   False, False],\n",
            "       fill_value=999999), 'param_learning_rate': masked_array(data=[0.30000000000000004, 0.2, 0.2, 0.2, 0.4, 0.5,\n",
            "                   0.30000000000000004, 0.2, 0.2, 0.2],\n",
            "             mask=[False, False, False, False, False, False, False, False,\n",
            "                   False, False],\n",
            "       fill_value=1e+20), 'param_estimator__min_samples_split': masked_array(data=[3, 3, 4, 2, 2, 2, 4, 3, 3, 3],\n",
            "             mask=[False, False, False, False, False, False, False, False,\n",
            "                   False, False],\n",
            "       fill_value=999999), 'param_estimator__max_depth': masked_array(data=[4, 2, 3, 4, 3, 2, 4, 3, 3, 2],\n",
            "             mask=[False, False, False, False, False, False, False, False,\n",
            "                   False, False],\n",
            "       fill_value=999999), 'params': [{'n_estimators': np.int64(300), 'learning_rate': np.float64(0.30000000000000004), 'estimator__min_samples_split': np.int64(3), 'estimator__max_depth': np.int64(4)}, {'n_estimators': np.int64(500), 'learning_rate': np.float64(0.2), 'estimator__min_samples_split': np.int64(3), 'estimator__max_depth': np.int64(2)}, {'n_estimators': np.int64(400), 'learning_rate': np.float64(0.2), 'estimator__min_samples_split': np.int64(4), 'estimator__max_depth': np.int64(3)}, {'n_estimators': np.int64(300), 'learning_rate': np.float64(0.2), 'estimator__min_samples_split': np.int64(2), 'estimator__max_depth': np.int64(4)}, {'n_estimators': np.int64(200), 'learning_rate': np.float64(0.4), 'estimator__min_samples_split': np.int64(2), 'estimator__max_depth': np.int64(3)}, {'n_estimators': np.int64(200), 'learning_rate': np.float64(0.5), 'estimator__min_samples_split': np.int64(2), 'estimator__max_depth': np.int64(2)}, {'n_estimators': np.int64(200), 'learning_rate': np.float64(0.30000000000000004), 'estimator__min_samples_split': np.int64(4), 'estimator__max_depth': np.int64(4)}, {'n_estimators': np.int64(300), 'learning_rate': np.float64(0.2), 'estimator__min_samples_split': np.int64(3), 'estimator__max_depth': np.int64(3)}, {'n_estimators': np.int64(400), 'learning_rate': np.float64(0.2), 'estimator__min_samples_split': np.int64(3), 'estimator__max_depth': np.int64(3)}, {'n_estimators': np.int64(400), 'learning_rate': np.float64(0.2), 'estimator__min_samples_split': np.int64(3), 'estimator__max_depth': np.int64(2)}], 'split0_test_score': array([0.908 , 0.8315, 0.8765, 0.9055, 0.867 , 0.8325, 0.901 , 0.883 ,\n",
            "       0.8765, 0.8365]), 'split1_test_score': array([0.9145, 0.8525, 0.897 , 0.9155, 0.8945, 0.8525, 0.917 , 0.891 ,\n",
            "       0.896 , 0.8515]), 'split2_test_score': array([0.916 , 0.849 , 0.8955, 0.9135, 0.8895, 0.8385, 0.9185, 0.8895,\n",
            "       0.8955, 0.8435]), 'mean_test_score': array([0.91283333, 0.84433333, 0.88966667, 0.9115    , 0.88366667,\n",
            "       0.84116667, 0.91216667, 0.88783333, 0.88933333, 0.84383333]), 'std_test_score': array([0.00347211, 0.00918634, 0.00933036, 0.00432049, 0.01196058,\n",
            "       0.00837987, 0.00791974, 0.00347211, 0.00907683, 0.00612826]), 'rank_test_score': array([ 1,  8,  4,  3,  7, 10,  2,  6,  5,  9], dtype=int32)}\n",
            "Total time elapsed: 2262\n"
          ]
        }
      ],
      "source": [
        "n_iter_search = 10 # número de configurações de parâmetros\n",
        "cv = 3 # cross validation samples\n",
        "njobs = 5\n",
        "\n",
        "grid_search = None\n",
        "if train_model and run_grid_search:\n",
        "    import time\n",
        "    print( time.strftime(\"%Y/%m/%d %H:%M:%S\", time.localtime() ) )\n",
        "    time_s_ = time.time()\n",
        "\n",
        "    from sklearn.model_selection import RandomizedSearchCV\n",
        "    #from sklearn.model_selection import GridSearchCV\n",
        "\n",
        "    param_distribs = {\n",
        "        \"estimator__max_depth\": np.arange(2,5),\n",
        "        \"estimator__min_samples_split\": np.arange(2,5),\n",
        "        \"n_estimators\": 100 * np.arange(2,6),\n",
        "        \"learning_rate\": 0.1 * np.arange(2,6)\n",
        "        }\n",
        "\n",
        "    grid_search = RandomizedSearchCV(\n",
        "        AdaBoostClassifier(\n",
        "            DecisionTreeClassifier(),\n",
        "            algorithm=\"SAMME\"\n",
        "            ),\n",
        "        param_distribs,\n",
        "        n_iter=n_iter_search, cv=cv, verbose=20, n_jobs=njobs, random_state=42\n",
        "        )\n",
        "    grid_search.fit( X_train_shuffle[:10000], y_train_shuffle[:10000] )\n",
        "\n",
        "    print ( grid_search.best_params_ )\n",
        "    print ( grid_search.best_score_ )\n",
        "    print ( grid_search.cv_results_ )\n",
        "\n",
        "    time_e_ = time.time()\n",
        "    print ( \"Total time elapsed: {:.0f}\".format( time_e_ - time_s_ ) )"
      ]
    },
    {
      "cell_type": "markdown",
      "metadata": {
        "id": "vOQ6v6d4cX4m"
      },
      "source": [
        "### 4º Treinar o Modelo com os melhores Hyper-parámetros"
      ]
    },
    {
      "cell_type": "code",
      "execution_count": null,
      "metadata": {
        "colab": {
          "base_uri": "https://localhost:8080/"
        },
        "id": "YwhUerpQcWcW",
        "outputId": "20b2ea82-b7dc-44a9-d9c8-545b05f119fd"
      },
      "outputs": [
        {
          "output_type": "stream",
          "name": "stderr",
          "text": [
            "/usr/local/lib/python3.11/dist-packages/sklearn/ensemble/_weight_boosting.py:519: FutureWarning: The parameter 'algorithm' is deprecated in 1.6 and has no effect. It will be removed in version 1.8.\n",
            "  warnings.warn(\n"
          ]
        },
        {
          "output_type": "stream",
          "name": "stdout",
          "text": [
            "AdaBoostClassifier(algorithm='SAMME',\n",
            "                   estimator=DecisionTreeClassifier(max_depth=np.int64(4),\n",
            "                                                    min_samples_split=np.int64(3)),\n",
            "                   learning_rate=np.float64(0.30000000000000004),\n",
            "                   n_estimators=np.int64(300))\n"
          ]
        }
      ],
      "source": [
        "model_final = None\n",
        "\n",
        "if train_model:\n",
        "    max_depth_ = 4\n",
        "    min_samples_split_ = 3\n",
        "    n_estimators_ = 300\n",
        "    learning_rate_ = 0.3\n",
        "    if run_grid_search:\n",
        "#         model_final = grid_search.best_estimator_\n",
        "        params_ = grid_search.best_params_\n",
        "        max_depth_ = params_[ 'estimator__max_depth' ]\n",
        "        min_samples_split_ = params_[ 'estimator__min_samples_split' ]\n",
        "        n_estimators_ = params_[ 'n_estimators' ]\n",
        "        learning_rate_ = params_[ 'learning_rate' ]\n",
        "\n",
        "    model_final = AdaBoostClassifier(\n",
        "            DecisionTreeClassifier(\n",
        "                max_depth=max_depth_,\n",
        "                min_samples_split=min_samples_split_\n",
        "            ),\n",
        "            n_estimators = n_estimators_,\n",
        "            algorithm=\"SAMME\",\n",
        "            learning_rate = learning_rate_\n",
        "            )\n",
        "    model_final.fit( X_train_shuffle, y_train_shuffle )\n",
        "else:\n",
        "    model_final = load( model_path )\n",
        "\n",
        "print ( model_final )"
      ]
    },
    {
      "cell_type": "markdown",
      "metadata": {
        "id": "leYy68aFc2iP"
      },
      "source": [
        "### 5º Testar e avaliar a performance"
      ]
    },
    {
      "cell_type": "code",
      "execution_count": null,
      "metadata": {
        "colab": {
          "base_uri": "https://localhost:8080/"
        },
        "id": "EtC0pDOfc17M",
        "outputId": "051ac979-d0e0-43c2-cb3e-50785bc70450"
      },
      "outputs": [
        {
          "output_type": "stream",
          "name": "stdout",
          "text": [
            "Accuracy = 0.9255\n"
          ]
        }
      ],
      "source": [
        "y_predict_test = model_final.predict( X_test )\n",
        "\n",
        "accuracy = np.sum( y_predict_test == y_test ) / y_test.size\n",
        "print ( \"Accuracy = {}\".format( accuracy ) )"
      ]
    },
    {
      "cell_type": "code",
      "source": [
        "probs= model_final.predict_proba(X_test)"
      ],
      "metadata": {
        "id": "SYqWlxCKJnH3"
      },
      "execution_count": null,
      "outputs": []
    },
    {
      "cell_type": "code",
      "source": [
        "idx=0\n",
        "\n",
        "print(probs[idx],y_predict_test[idx],y_test[idx])\n"
      ],
      "metadata": {
        "id": "gwlzr3B1RKZN",
        "outputId": "f0393995-c2f1-436d-a3c4-af2226c31dcc",
        "colab": {
          "base_uri": "https://localhost:8080/"
        }
      },
      "execution_count": null,
      "outputs": [
        {
          "output_type": "stream",
          "name": "stdout",
          "text": [
            "[0.1044436  0.09880131 0.0999012  0.09967804 0.09921343 0.09986595\n",
            " 0.09992376 0.09928084 0.09952124 0.09937063] 0 0\n"
          ]
        }
      ]
    },
    {
      "cell_type": "code",
      "execution_count": null,
      "metadata": {
        "id": "sQ6bTqstfr_D"
      },
      "outputs": [],
      "source": [
        "if train_model and save_model:\n",
        "#     dump( model_final, \"ada_clf.joblib\" )\n",
        "    dump( model_final, \"ada_clf.joblib\" )"
      ]
    },
    {
      "cell_type": "code",
      "execution_count": null,
      "metadata": {
        "colab": {
          "base_uri": "https://localhost:8080/"
        },
        "id": "3H7rOnPEWCwy",
        "outputId": "f34ca7e2-c207-4a22-c302-a1e4208cd2d8"
      },
      "outputs": [
        {
          "output_type": "stream",
          "name": "stdout",
          "text": [
            " DecisionTreeClassifier(*, criterion='gini', splitter='best', max_depth=None,\n",
            "                        min_samples_split=2, min_samples_leaf=1,\n",
            "                        min_weight_fraction_leaf=0.0, max_features=None,\n",
            "                        random_state=None, max_leaf_nodes=None,\n",
            "                        min_impurity_decrease=0.0, class_weight=None,\n",
            "                        ccp_alpha=0.0, monotonic_cst=None)\n",
            "\n",
            "A decision tree classifier.\n",
            "\n",
            "Read more in the :ref:`User Guide <tree>`.\n",
            "\n",
            "Parameters\n",
            "----------\n",
            "criterion : {\"gini\", \"entropy\", \"log_loss\"}, default=\"gini\"\n",
            "    The function to measure the quality of a split. Supported criteria are\n",
            "    \"gini\" for the Gini impurity and \"log_loss\" and \"entropy\" both for the\n",
            "    Shannon information gain, see :ref:`tree_mathematical_formulation`.\n",
            "\n",
            "splitter : {\"best\", \"random\"}, default=\"best\"\n",
            "    The strategy used to choose the split at each node. Supported\n",
            "    strategies are \"best\" to choose the best split and \"random\" to choose\n",
            "    the best random split.\n",
            "\n",
            "max_depth : int, default=None\n",
            "    The maximum depth of the tree. If None, then nodes are expanded until\n",
            "    all leaves are pure or until all leaves contain less than\n",
            "    min_samples_split samples.\n",
            "\n",
            "min_samples_split : int or float, default=2\n",
            "    The minimum number of samples required to split an internal node:\n",
            "\n",
            "    - If int, then consider `min_samples_split` as the minimum number.\n",
            "    - If float, then `min_samples_split` is a fraction and\n",
            "      `ceil(min_samples_split * n_samples)` are the minimum\n",
            "      number of samples for each split.\n",
            "\n",
            "    .. versionchanged:: 0.18\n",
            "       Added float values for fractions.\n",
            "\n",
            "min_samples_leaf : int or float, default=1\n",
            "    The minimum number of samples required to be at a leaf node.\n",
            "    A split point at any depth will only be considered if it leaves at\n",
            "    least ``min_samples_leaf`` training samples in each of the left and\n",
            "    right branches.  This may have the effect of smoothing the model,\n",
            "    especially in regression.\n",
            "\n",
            "    - If int, then consider `min_samples_leaf` as the minimum number.\n",
            "    - If float, then `min_samples_leaf` is a fraction and\n",
            "      `ceil(min_samples_leaf * n_samples)` are the minimum\n",
            "      number of samples for each node.\n",
            "\n",
            "    .. versionchanged:: 0.18\n",
            "       Added float values for fractions.\n",
            "\n",
            "min_weight_fraction_leaf : float, default=0.0\n",
            "    The minimum weighted fraction of the sum total of weights (of all\n",
            "    the input samples) required to be at a leaf node. Samples have\n",
            "    equal weight when sample_weight is not provided.\n",
            "\n",
            "max_features : int, float or {\"sqrt\", \"log2\"}, default=None\n",
            "    The number of features to consider when looking for the best split:\n",
            "\n",
            "    - If int, then consider `max_features` features at each split.\n",
            "    - If float, then `max_features` is a fraction and\n",
            "      `max(1, int(max_features * n_features_in_))` features are considered at\n",
            "      each split.\n",
            "    - If \"sqrt\", then `max_features=sqrt(n_features)`.\n",
            "    - If \"log2\", then `max_features=log2(n_features)`.\n",
            "    - If None, then `max_features=n_features`.\n",
            "\n",
            "    .. note::\n",
            "\n",
            "        The search for a split does not stop until at least one\n",
            "        valid partition of the node samples is found, even if it requires to\n",
            "        effectively inspect more than ``max_features`` features.\n",
            "\n",
            "random_state : int, RandomState instance or None, default=None\n",
            "    Controls the randomness of the estimator. The features are always\n",
            "    randomly permuted at each split, even if ``splitter`` is set to\n",
            "    ``\"best\"``. When ``max_features < n_features``, the algorithm will\n",
            "    select ``max_features`` at random at each split before finding the best\n",
            "    split among them. But the best found split may vary across different\n",
            "    runs, even if ``max_features=n_features``. That is the case, if the\n",
            "    improvement of the criterion is identical for several splits and one\n",
            "    split has to be selected at random. To obtain a deterministic behaviour\n",
            "    during fitting, ``random_state`` has to be fixed to an integer.\n",
            "    See :term:`Glossary <random_state>` for details.\n",
            "\n",
            "max_leaf_nodes : int, default=None\n",
            "    Grow a tree with ``max_leaf_nodes`` in best-first fashion.\n",
            "    Best nodes are defined as relative reduction in impurity.\n",
            "    If None then unlimited number of leaf nodes.\n",
            "\n",
            "min_impurity_decrease : float, default=0.0\n",
            "    A node will be split if this split induces a decrease of the impurity\n",
            "    greater than or equal to this value.\n",
            "\n",
            "    The weighted impurity decrease equation is the following::\n",
            "\n",
            "        N_t / N * (impurity - N_t_R / N_t * right_impurity\n",
            "                            - N_t_L / N_t * left_impurity)\n",
            "\n",
            "    where ``N`` is the total number of samples, ``N_t`` is the number of\n",
            "    samples at the current node, ``N_t_L`` is the number of samples in the\n",
            "    left child, and ``N_t_R`` is the number of samples in the right child.\n",
            "\n",
            "    ``N``, ``N_t``, ``N_t_R`` and ``N_t_L`` all refer to the weighted sum,\n",
            "    if ``sample_weight`` is passed.\n",
            "\n",
            "    .. versionadded:: 0.19\n",
            "\n",
            "class_weight : dict, list of dict or \"balanced\", default=None\n",
            "    Weights associated with classes in the form ``{class_label: weight}``.\n",
            "    If None, all classes are supposed to have weight one. For\n",
            "    multi-output problems, a list of dicts can be provided in the same\n",
            "    order as the columns of y.\n",
            "\n",
            "    Note that for multioutput (including multilabel) weights should be\n",
            "    defined for each class of every column in its own dict. For example,\n",
            "    for four-class multilabel classification weights should be\n",
            "    [{0: 1, 1: 1}, {0: 1, 1: 5}, {0: 1, 1: 1}, {0: 1, 1: 1}] instead of\n",
            "    [{1:1}, {2:5}, {3:1}, {4:1}].\n",
            "\n",
            "    The \"balanced\" mode uses the values of y to automatically adjust\n",
            "    weights inversely proportional to class frequencies in the input data\n",
            "    as ``n_samples / (n_classes * np.bincount(y))``\n",
            "\n",
            "    For multi-output, the weights of each column of y will be multiplied.\n",
            "\n",
            "    Note that these weights will be multiplied with sample_weight (passed\n",
            "    through the fit method) if sample_weight is specified.\n",
            "\n",
            "ccp_alpha : non-negative float, default=0.0\n",
            "    Complexity parameter used for Minimal Cost-Complexity Pruning. The\n",
            "    subtree with the largest cost complexity that is smaller than\n",
            "    ``ccp_alpha`` will be chosen. By default, no pruning is performed. See\n",
            "    :ref:`minimal_cost_complexity_pruning` for details. See\n",
            "    :ref:`sphx_glr_auto_examples_tree_plot_cost_complexity_pruning.py`\n",
            "    for an example of such pruning.\n",
            "\n",
            "    .. versionadded:: 0.22\n",
            "\n",
            "monotonic_cst : array-like of int of shape (n_features), default=None\n",
            "    Indicates the monotonicity constraint to enforce on each feature.\n",
            "      - 1: monotonic increase\n",
            "      - 0: no constraint\n",
            "      - -1: monotonic decrease\n",
            "\n",
            "    If monotonic_cst is None, no constraints are applied.\n",
            "\n",
            "    Monotonicity constraints are not supported for:\n",
            "      - multiclass classifications (i.e. when `n_classes > 2`),\n",
            "      - multioutput classifications (i.e. when `n_outputs_ > 1`),\n",
            "      - classifications trained on data with missing values.\n",
            "\n",
            "    The constraints hold over the probability of the positive class.\n",
            "\n",
            "    Read more in the :ref:`User Guide <monotonic_cst_gbdt>`.\n",
            "\n",
            "    .. versionadded:: 1.4\n",
            "\n",
            "Attributes\n",
            "----------\n",
            "classes_ : ndarray of shape (n_classes,) or list of ndarray\n",
            "    The classes labels (single output problem),\n",
            "    or a list of arrays of class labels (multi-output problem).\n",
            "\n",
            "feature_importances_ : ndarray of shape (n_features,)\n",
            "    The impurity-based feature importances.\n",
            "    The higher, the more important the feature.\n",
            "    The importance of a feature is computed as the (normalized)\n",
            "    total reduction of the criterion brought by that feature.  It is also\n",
            "    known as the Gini importance [4]_.\n",
            "\n",
            "    Warning: impurity-based feature importances can be misleading for\n",
            "    high cardinality features (many unique values). See\n",
            "    :func:`sklearn.inspection.permutation_importance` as an alternative.\n",
            "\n",
            "max_features_ : int\n",
            "    The inferred value of max_features.\n",
            "\n",
            "n_classes_ : int or list of int\n",
            "    The number of classes (for single output problems),\n",
            "    or a list containing the number of classes for each\n",
            "    output (for multi-output problems).\n",
            "\n",
            "n_features_in_ : int\n",
            "    Number of features seen during :term:`fit`.\n",
            "\n",
            "    .. versionadded:: 0.24\n",
            "\n",
            "feature_names_in_ : ndarray of shape (`n_features_in_`,)\n",
            "    Names of features seen during :term:`fit`. Defined only when `X`\n",
            "    has feature names that are all strings.\n",
            "\n",
            "    .. versionadded:: 1.0\n",
            "\n",
            "n_outputs_ : int\n",
            "    The number of outputs when ``fit`` is performed.\n",
            "\n",
            "tree_ : Tree instance\n",
            "    The underlying Tree object. Please refer to\n",
            "    ``help(sklearn.tree._tree.Tree)`` for attributes of Tree object and\n",
            "    :ref:`sphx_glr_auto_examples_tree_plot_unveil_tree_structure.py`\n",
            "    for basic usage of these attributes.\n",
            "\n",
            "See Also\n",
            "--------\n",
            "DecisionTreeRegressor : A decision tree regressor.\n",
            "\n",
            "Notes\n",
            "-----\n",
            "The default values for the parameters controlling the size of the trees\n",
            "(e.g. ``max_depth``, ``min_samples_leaf``, etc.) lead to fully grown and\n",
            "unpruned trees which can potentially be very large on some data sets. To\n",
            "reduce memory consumption, the complexity and size of the trees should be\n",
            "controlled by setting those parameter values.\n",
            "\n",
            "The :meth:`predict` method operates using the :func:`numpy.argmax`\n",
            "function on the outputs of :meth:`predict_proba`. This means that in\n",
            "case the highest predicted probabilities are tied, the classifier will\n",
            "predict the tied class with the lowest index in :term:`classes_`.\n",
            "\n",
            "References\n",
            "----------\n",
            "\n",
            ".. [1] https://en.wikipedia.org/wiki/Decision_tree_learning\n",
            "\n",
            ".. [2] L. Breiman, J. Friedman, R. Olshen, and C. Stone, \"Classification\n",
            "       and Regression Trees\", Wadsworth, Belmont, CA, 1984.\n",
            "\n",
            ".. [3] T. Hastie, R. Tibshirani and J. Friedman. \"Elements of Statistical\n",
            "       Learning\", Springer, 2009.\n",
            "\n",
            ".. [4] L. Breiman, and A. Cutler, \"Random Forests\",\n",
            "       https://www.stat.berkeley.edu/~breiman/RandomForests/cc_home.htm\n",
            "\n",
            "Examples\n",
            "--------\n",
            ">>> from sklearn.datasets import load_iris\n",
            ">>> from sklearn.model_selection import cross_val_score\n",
            ">>> from sklearn.tree import DecisionTreeClassifier\n",
            ">>> clf = DecisionTreeClassifier(random_state=0)\n",
            ">>> iris = load_iris()\n",
            ">>> cross_val_score(clf, iris.data, iris.target, cv=10)\n",
            "...                             # doctest: +SKIP\n",
            "...\n",
            "array([ 1.     ,  0.93...,  0.86...,  0.93...,  0.93...,\n",
            "        0.93...,  0.93...,  1.     ,  0.93...,  1.      ])\n",
            "\n",
            "\n",
            "Methods:\n",
            "\n",
            "  apply  --  Return the index of the leaf that each sample is predicted as.\n",
            "  cost_complexity_pruning_path  --  Compute the pruning path during Minimal Cost-Complexity Pruning.\n",
            "  decision_path  --  Return the decision path in the tree.\n",
            "  fit  --  Build a decision tree classifier from the training set (X, y).\n",
            "  get_depth  --  Return the depth of the decision tree.\n",
            "  get_metadata_routing  --  Get metadata routing of this object.\n",
            "  get_n_leaves  --  Return the number of leaves of the decision tree.\n",
            "  get_params  --  Get parameters for this estimator.\n",
            "  predict  --  Predict class or regression value for X.\n",
            "  predict_log_proba  --  Predict class log-probabilities of the input samples X.\n",
            "  predict_proba  --  Predict class probabilities of the input samples X.\n",
            "  score  --  Return the mean accuracy on the given test data and labels.\n",
            "  set_fit_request  --  Request metadata passed to the ``fit`` method.\n",
            "  set_params  --  Set the parameters of this estimator.\n",
            "  set_score_request  --  Request metadata passed to the ``score`` method.\n"
          ]
        }
      ],
      "source": [
        "np.info( DecisionTreeClassifier )"
      ]
    },
    {
      "cell_type": "code",
      "execution_count": null,
      "metadata": {
        "id": "Imr53LGtCkLF",
        "outputId": "a32efc22-79e2-4d26-f474-349a61870d9d",
        "colab": {
          "base_uri": "https://localhost:8080/"
        }
      },
      "outputs": [
        {
          "output_type": "stream",
          "name": "stdout",
          "text": [
            "0.9991131783407997\n"
          ]
        }
      ],
      "source": [
        "## ROC para o digito \"1\"\n",
        "\n",
        "from sklearn.metrics import roc_curve, RocCurveDisplay, auc\n",
        "fpr, tpr, thresholds = roc_curve(y_test==1, probs[:,1])\n",
        "roc_auc_1 = auc(fpr, tpr)\n",
        "print(roc_auc_1)"
      ]
    },
    {
      "cell_type": "code",
      "source": [
        "## Grafico ROC\n",
        "plt.figure()\n",
        "plt.plot(fpr, tpr, color='darkorange', lw=2, label='ROC curve (area = %0.4f)' % roc_auc_1)\n",
        "plt.plot([0, 1], [0, 1], color='navy', lw=2, linestyle='--')\n",
        "plt.xlim([0.0, 1.0])\n",
        "plt.ylim([0.0, 1.05])\n",
        "plt.xlabel('False Positive Rate')\n",
        "plt.ylabel('True Positive Rate')\n",
        "plt.title('Receiver Operating Characteristic (ROC)')\n",
        "plt.legend(loc=\"lower right\")\n",
        "plt.show()\n",
        "\n"
      ],
      "metadata": {
        "id": "SL33jXmIThPw",
        "outputId": "81bdc8d5-0cc9-4341-ba3c-d712f946dcde",
        "colab": {
          "base_uri": "https://localhost:8080/",
          "height": 472
        }
      },
      "execution_count": null,
      "outputs": [
        {
          "output_type": "display_data",
          "data": {
            "text/plain": [
              "<Figure size 640x480 with 1 Axes>"
            ],
            "image/png": "[encoded data removed]"
          },
          "metadata": {}
        }
      ]
    },
    {
      "cell_type": "markdown",
      "source": [
        "Podemos examinar para outros dígitos, o número corresponde à coluna na matrix entregue pela funcão ```predict_proba```.\n",
        "\n",
        "#### Exercício :\n",
        "Coloque todas as ROC curves dos 10 dígitos no mesmo gráfico. Qual dígito tem a pior performance? Qual a melhor?"
      ],
      "metadata": {
        "id": "kyG_GRd5V_kY"
      }
    },
    {
      "cell_type": "code",
      "source": [
        "## ROC para o digito \"0\"\n",
        "\n",
        "\n",
        "fpr, tpr, thresholds = roc_curve(y_test==0, probs[:,0])\n",
        "roc_auc_0 = auc(fpr, tpr)\n",
        "print(roc_auc_0)"
      ],
      "metadata": {
        "id": "Cwv1WzXXT9BD",
        "outputId": "c840f687-ea13-402e-b0ac-736bccb0bf43",
        "colab": {
          "base_uri": "https://localhost:8080/"
        }
      },
      "execution_count": null,
      "outputs": [
        {
          "output_type": "stream",
          "name": "stdout",
          "text": [
            "0.9985730123535002\n"
          ]
        }
      ]
    },
    {
      "cell_type": "code",
      "source": [
        "plt.figure()\n",
        "plt.plot(fpr, tpr, color='darkorange', lw=2, label='Digit 0 : ROC curve (area = %0.4f)' % roc_auc_0)\n",
        "plt.plot([0, 1], [0, 1], color='navy', lw=2, linestyle='--')\n",
        "plt.xlim([0.0, 1.0])\n",
        "plt.ylim([0.0, 1.05])\n",
        "plt.xlabel('False Positive Rate')\n",
        "plt.ylabel('True Positive Rate')\n",
        "plt.title('Receiver Operating Characteristic (ROC)')\n",
        "plt.legend(loc=\"lower right\")\n",
        "plt.show()\n"
      ],
      "metadata": {
        "id": "s2gjpwbQUDZ3",
        "outputId": "eae2ebd7-2302-4958-cd81-ef61adf8b7ae",
        "colab": {
          "base_uri": "https://localhost:8080/",
          "height": 472
        }
      },
      "execution_count": null,
      "outputs": [
        {
          "output_type": "display_data",
          "data": {
            "text/plain": [
              "<Figure size 640x480 with 1 Axes>"
            ],
            "image/png": "[encoded data removed]"
          },
          "metadata": {}
        }
      ]
    },
    {
      "cell_type": "markdown",
      "source": [
        "### **Exercício**\n",
        "\n",
        "Um módulo muito bem sucedido para BDTs é o chamado XGBoost (ou extreme gradient boosting)(Ref: https://github.com/dmlc/xgboost).\n",
        "\n",
        "Um exemplo de utilização do módulo pode ser encontrado [neste caderno do nosso repositorio](https://github.com/Rio-HEPLab/ML4Physics/blob/PPGF-2025-1/Exemplos_BDT/XGB_simple_Classfier.ipynb).\n",
        "\n",
        "Faça uma adaptacão para usar o XGBoost para fazer a classificação dos dígitos."
      ],
      "metadata": {
        "id": "dONgUgnFUr-C"
      }
    }
  ],
  "metadata": {
    "colab": {
      "provenance": [],
      "include_colab_link": true
    },
    "kernelspec": {
      "display_name": "Python 3",
      "language": "python",
      "name": "python3"
    },
    "language_info": {
      "codemirror_mode": {
        "name": "ipython",
        "version": 3
      },
      "file_extension": ".py",
      "mimetype": "text/x-python",
      "name": "python",
      "nbconvert_exporter": "python",
      "pygments_lexer": "ipython3",
      "version": "3.7.8"
    }
  },
  "nbformat": 4,
  "nbformat_minor": 0
}