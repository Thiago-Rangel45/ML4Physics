{
  "nbformat": 4,
  "nbformat_minor": 0,
  "metadata": {
    "kernelspec": {
      "name": "python3",
      "display_name": "Python 3"
    },
    "language_info": {
      "codemirror_mode": {
        "name": "ipython",
        "version": 3
      },
      "file_extension": ".py",
      "mimetype": "text/x-python",
      "name": "python",
      "nbconvert_exporter": "python",
      "pygments_lexer": "ipython3",
      "version": "3.6.7"
    },
    "colab": {
      "name": "LSTM_Keras_english2spanish.ipynb",
      "provenance": [],
      "collapsed_sections": [],
      "include_colab_link": true
    },
    "accelerator": "GPU"
  },
  "cells": [
    {
      "cell_type": "markdown",
      "metadata": {
        "id": "view-in-github",
        "colab_type": "text"
      },
      "source": [
        "<a href=\"https://colab.research.google.com/github/clemencia/ML4PPGF_UERJ/blob/master/Exemplos_RNN_LSTM/LSTM_Keras_english2spanish.ipynb\" target=\"_parent\"><img src=\"https://colab.research.google.com/assets/colab-badge.svg\" alt=\"Open In Colab\"/></a>"
      ]
    },
    {
      "cell_type": "markdown",
      "metadata": {
        "id": "4gLzCMiDC_wp",
        "colab_type": "text"
      },
      "source": [
        "#LSTM For English to Spanish translation\n",
        "\n",
        "### Fonte :   Thomas Tracey\n",
        "https://towardsdatascience.com/language-translation-with-rnns-d84d43b40571\n",
        "\n",
        "https://github.com/tommytracey/AIND-Capstone/blob/master/README.md\n"
      ]
    },
    {
      "cell_type": "code",
      "metadata": {
        "id": "ny5xpnI9C5G6",
        "colab_type": "code",
        "colab": {}
      },
      "source": [
        "# Start by importing all the things we'll need.\n",
        "import tensorflow as tf\n",
        "from tensorflow import keras\n",
        "from tensorflow.keras.models import Model\n",
        "from tensorflow.keras.layers import Input, LSTM, Dense, Embedding, CuDNNLSTM, Flatten, TimeDistributed, Dropout, LSTMCell, RNN\n",
        "from tensorflow.keras.callbacks import ModelCheckpoint\n",
        "from tensorflow.python.keras.utils import tf_utils\n",
        "from tensorflow.keras import backend as K\n",
        "\n",
        "# This enables the Jupyter backend on some matplotlib installations.\n",
        "%matplotlib notebook\n",
        "import matplotlib.pyplot as plt\n",
        "# Turn off interactive plots. iplt doesn't work well with Jupyter.\n",
        "#plt.ioff()\n",
        "\n",
        "%matplotlib inline\n",
        "\n",
        "\n",
        "import unicodedata\n",
        "import re\n",
        "import numpy as np\n",
        "import os\n",
        "import time\n",
        "import shutil"
      ],
      "execution_count": 0,
      "outputs": []
    },
    {
      "cell_type": "markdown",
      "metadata": {
        "id": "uaLizHkEC5G9",
        "colab_type": "text"
      },
      "source": [
        "## Pulling and Pre-processing the Data\n",
        "The first part of this notebook is pretty much a copy and paste from the aforementioned Tensorflow tutorial: we are using the exact same data as they do.\n",
        "\n",
        "The only difference is that I've changed the code to translate from English to Spanish, not the other way around. I speak English natively and speak a little Spanish - so this feels more appropriate to me."
      ]
    },
    {
      "cell_type": "code",
      "metadata": {
        "id": "XiojLKX-C5G-",
        "colab_type": "code",
        "colab": {}
      },
      "source": [
        "class LanguageIndex():\n",
        "    def __init__(self, lang):\n",
        "        self.lang = lang\n",
        "        self.word2idx = {}\n",
        "        self.idx2word = {}\n",
        "        self.vocab = set()\n",
        "        self.create_index()\n",
        "    def create_index(self):\n",
        "        for phrase in self.lang:\n",
        "            self.vocab.update(phrase.split(' '))\n",
        "        self.vocab = sorted(self.vocab)\n",
        "        self.word2idx[\"<pad>\"] = 0\n",
        "        self.idx2word[0] = \"<pad>\"\n",
        "        for i,word in enumerate(self.vocab):\n",
        "            self.word2idx[word] = i + 1\n",
        "            self.idx2word[i+1] = word\n",
        "\n",
        "# Download the file\n",
        "path_to_zip = tf.keras.utils.get_file(\n",
        "    'spa-eng.zip', origin='http://download.tensorflow.org/data/spa-eng.zip', \n",
        "    extract=True)\n",
        "path_to_file = os.path.dirname(path_to_zip)+\"/spa-eng/spa.txt\"\n",
        "\n",
        "def unicode_to_ascii(s):\n",
        "    return ''.join(c for c in unicodedata.normalize('NFD', s) if unicodedata.category(c) != 'Mn')\n",
        "def preprocess_sentence(w):\n",
        "    w = unicode_to_ascii(w.lower().strip())\n",
        "    w = re.sub(r\"([?.!,¿])\", r\" \\1 \", w)\n",
        "    w = re.sub(r'[\" \"]+', \" \", w)\n",
        "    w = re.sub(r\"[^a-zA-Z?.!,¿]+\", \" \", w)\n",
        "    w = w.rstrip().strip()\n",
        "    w = \"<start> \" + w + \" <end>\"\n",
        "    return w\n",
        "\n",
        "def max_length(t):\n",
        "    return max(len(i) for i in t)\n",
        "\n",
        "def create_dataset(path, num_examples):\n",
        "    lines = open(path, encoding=\"UTF-8\").read().strip().split(\"\\n\")\n",
        "    word_pairs = [[preprocess_sentence(w) for w in l.split(\"\\t\")] for l in lines[:num_examples]]\n",
        "    return word_pairs\n",
        "\n",
        "def load_dataset(path, num_examples):\n",
        "    pairs = create_dataset(path, num_examples)\n",
        "    out_lang = LanguageIndex(sp for en, sp in pairs)\n",
        "    in_lang = LanguageIndex(en for en, sp in pairs)\n",
        "    input_data = [[in_lang.word2idx[s] for s in en.split(' ')] for en, sp in pairs]\n",
        "    output_data = [[out_lang.word2idx[s] for s in sp.split(' ')] for en, sp in pairs]\n",
        "\n",
        "    max_length_in, max_length_out = max_length(input_data), max_length(output_data)\n",
        "    input_data = tf.keras.preprocessing.sequence.pad_sequences(input_data, maxlen=max_length_in, padding=\"post\")\n",
        "    output_data = tf.keras.preprocessing.sequence.pad_sequences(output_data, maxlen=max_length_out, padding=\"post\")\n",
        "    return input_data, output_data, in_lang, out_lang, max_length_in, max_length_out"
      ],
      "execution_count": 0,
      "outputs": []
    },
    {
      "cell_type": "markdown",
      "metadata": {
        "id": "X8SfDUYhC5HA",
        "colab_type": "text"
      },
      "source": [
        "One difference with our implementation is that we will need to provide two tensors for the target language. One is the \"teacher tensor\", which forces the decoder to follow a correct output stream. The other is the true \"target tensor\", which defines what the decoder should output given the teacher tensor. \n",
        "\n",
        "The only difference between the two is that the target tensor is just the teacher tensor shifted left by one word (and missing the \"<START>\" word).\n",
        "    \n",
        "To allow these two tensors to work in tandem, we will create two separate numpy arrays, even though the data is pretty much identical."
      ]
    },
    {
      "cell_type": "code",
      "metadata": {
        "id": "P1MSj1KHC5HB",
        "colab_type": "code",
        "colab": {}
      },
      "source": [
        "#num_examples = 118000 # Full example set.\n",
        "num_examples = 50000 # Partial set for faster training\n",
        "input_data, teacher_data, input_lang, target_lang, len_input, len_target = load_dataset(path_to_file, num_examples)\n",
        "\n",
        "\n",
        "target_data = [[teacher_data[n][i+1] for i in range(len(teacher_data[n])-1)] for n in range(len(teacher_data))]\n",
        "target_data = tf.keras.preprocessing.sequence.pad_sequences(target_data, maxlen=len_target, padding=\"post\")\n",
        "target_data = target_data.reshape((target_data.shape[0], target_data.shape[1], 1))\n",
        "\n",
        "# Shuffle all of the data in unison. This training set has the longest (e.g. most complicated) data at the end,\n",
        "# so a simple Keras validation split will be problematic if not shuffled.\n",
        "p = np.random.permutation(len(input_data))\n",
        "input_data = input_data[p]\n",
        "teacher_data = teacher_data[p]\n",
        "target_data = target_data[p]\n",
        "\n",
        "BUFFER_SIZE = len(input_data)\n",
        "BATCH_SIZE = 128\n",
        "embedding_dim = 256\n",
        "units = 1024\n",
        "vocab_in_size = len(input_lang.word2idx)\n",
        "vocab_out_size = len(target_lang.word2idx)"
      ],
      "execution_count": 0,
      "outputs": []
    },
    {
      "cell_type": "markdown",
      "metadata": {
        "id": "ubiEekYJC5HD",
        "colab_type": "text"
      },
      "source": [
        "## Creating the Seq2Seq Model\n",
        "Now, let's create a Keras model which will be used to implement the encoder and decoder. This will be done with the Keras Functional API.\n",
        "\n",
        "There are two major components: the encoder and the decoder. We create this first model to train both concurrently by hooking them together. Later on we will use the trained weights from this model to create two separate models for inference.\n",
        "\n",
        "Note that the Tensorflow tutorial uses a GRU while I will be using an LSTM. There isn't a huge difference between the two, other than that I believe the LSTM does a better job at this task."
      ]
    },
    {
      "cell_type": "code",
      "metadata": {
        "id": "jLwpXvNpC5HE",
        "colab_type": "code",
        "colab": {}
      },
      "source": [
        "# Create the Encoder layers first.\n",
        "encoder_inputs = Input(shape=(len_input,))\n",
        "encoder_emb = Embedding(input_dim=vocab_in_size, output_dim=embedding_dim)\n",
        "encoder_lstm = CuDNNLSTM(units=units, return_sequences=True, return_state=True)\n",
        "encoder_outputs, state_h, state_c = encoder_lstm(encoder_emb(encoder_inputs))\n",
        "encoder_states = [state_h, state_c]\n",
        "\n",
        "# Now create the Decoder layers.\n",
        "decoder_inputs = Input(shape=(None,))\n",
        "decoder_emb = Embedding(input_dim=vocab_out_size, output_dim=embedding_dim)\n",
        "decoder_lstm = CuDNNLSTM(units=units, return_sequences=True, return_state=True)\n",
        "decoder_lstm_out, _, _ = decoder_lstm(decoder_emb(decoder_inputs), initial_state=encoder_states)\n",
        "# Two dense layers added to this model to improve inference capabilities.\n",
        "decoder_d1 = Dense(units, activation=\"relu\")\n",
        "decoder_d2 = Dense(vocab_out_size, activation=\"softmax\")\n",
        "# Drop-out is added in the dense layers to help mitigate overfitting in this part of the model. Astute developers\n",
        "# may want to add the same mechanism inside the LSTMs.\n",
        "decoder_out = decoder_d2(Dropout(rate=.4)(decoder_d1(Dropout(rate=.4)(decoder_lstm_out))))\n",
        "\n",
        "# Finally, create a training model which combines the encoder and the decoder.\n",
        "# Note that this model has three inputs:\n",
        "#  encoder_inputs=[batch,encoded_words] from input language (English)\n",
        "#  decoder_inputs=[batch,encoded_words] from output language (Spanish). This is the \"teacher tensor\".\n",
        "#  decoder_out=[batch,encoded_words] from output language (Spanish). This is the \"target tensor\".\n",
        "model = Model([encoder_inputs, decoder_inputs], decoder_out)\n",
        "# We'll use sparse_categorical_crossentropy so we don't have to expand decoder_out into a massive one-hot array.\n",
        "#  Adam is used because it's, well, the best.\n",
        "model.compile(optimizer=tf.train.AdamOptimizer(), loss=\"sparse_categorical_crossentropy\", metrics=['sparse_categorical_accuracy'])"
      ],
      "execution_count": 0,
      "outputs": []
    },
    {
      "cell_type": "markdown",
      "metadata": {
        "id": "t4tBaCzcC5HG",
        "colab_type": "text"
      },
      "source": [
        "The next cell trains the model and plots the training and verification losses. It will take a **long** time, especially if you use the full data set. If you run into memory errors, reduce the data set size (less words in the language), the batch size, or the dimensionality of the model.\n",
        "\n",
        "When training this model, I saw modest improvements all the way up to Epoch 30 when using the full dataset. This took around 2 hours on an RTX 2080Ti. I'd recommend using a smaller dataset and less Epoch's if you are just playing around."
      ]
    },
    {
      "cell_type": "code",
      "metadata": {
        "id": "B9fGZdA5C5HG",
        "colab_type": "code",
        "outputId": "eb4dfa41-3344-44cd-a7a3-8320b9f6141a",
        "colab": {
          "base_uri": "https://localhost:8080/",
          "height": 564
        }
      },
      "source": [
        "# Note, we use 20% of our data for validation.\n",
        "epochs = 15\n",
        "history = model.fit([input_data, teacher_data], target_data,\n",
        "                 batch_size=BATCH_SIZE,\n",
        "                 epochs=epochs,\n",
        "                 validation_split=0.2)\n",
        "\n"
      ],
      "execution_count": 26,
      "outputs": [
        {
          "output_type": "stream",
          "text": [
            "Train on 40000 samples, validate on 10000 samples\n",
            "Epoch 1/15\n",
            "40000/40000 [==============================] - 50s 1ms/sample - loss: 1.9417 - sparse_categorical_accuracy: 0.7208 - val_loss: 1.5930 - val_sparse_categorical_accuracy: 0.7631\n",
            "Epoch 2/15\n",
            "40000/40000 [==============================] - 48s 1ms/sample - loss: 1.4711 - sparse_categorical_accuracy: 0.7757 - val_loss: 1.3799 - val_sparse_categorical_accuracy: 0.7888\n",
            "Epoch 3/15\n",
            "40000/40000 [==============================] - 48s 1ms/sample - loss: 1.2693 - sparse_categorical_accuracy: 0.7965 - val_loss: 1.2375 - val_sparse_categorical_accuracy: 0.8051\n",
            "Epoch 4/15\n",
            "40000/40000 [==============================] - 48s 1ms/sample - loss: 1.1117 - sparse_categorical_accuracy: 0.8125 - val_loss: 1.1164 - val_sparse_categorical_accuracy: 0.8207\n",
            "Epoch 5/15\n",
            "40000/40000 [==============================] - 48s 1ms/sample - loss: 0.9772 - sparse_categorical_accuracy: 0.8262 - val_loss: 1.0313 - val_sparse_categorical_accuracy: 0.8322\n",
            "Epoch 6/15\n",
            "40000/40000 [==============================] - 48s 1ms/sample - loss: 0.8644 - sparse_categorical_accuracy: 0.8386 - val_loss: 0.9620 - val_sparse_categorical_accuracy: 0.8418\n",
            "Epoch 7/15\n",
            "40000/40000 [==============================] - 48s 1ms/sample - loss: 0.7623 - sparse_categorical_accuracy: 0.8499 - val_loss: 0.9100 - val_sparse_categorical_accuracy: 0.8509\n",
            "Epoch 8/15\n",
            "40000/40000 [==============================] - 48s 1ms/sample - loss: 0.6737 - sparse_categorical_accuracy: 0.8617 - val_loss: 0.8622 - val_sparse_categorical_accuracy: 0.8584\n",
            "Epoch 9/15\n",
            "40000/40000 [==============================] - 48s 1ms/sample - loss: 0.5967 - sparse_categorical_accuracy: 0.8718 - val_loss: 0.8295 - val_sparse_categorical_accuracy: 0.8661\n",
            "Epoch 10/15\n",
            "40000/40000 [==============================] - 48s 1ms/sample - loss: 0.5271 - sparse_categorical_accuracy: 0.8821 - val_loss: 0.8074 - val_sparse_categorical_accuracy: 0.8710\n",
            "Epoch 11/15\n",
            "40000/40000 [==============================] - 48s 1ms/sample - loss: 0.4671 - sparse_categorical_accuracy: 0.8911 - val_loss: 0.7917 - val_sparse_categorical_accuracy: 0.8751\n",
            "Epoch 12/15\n",
            "40000/40000 [==============================] - 48s 1ms/sample - loss: 0.4157 - sparse_categorical_accuracy: 0.9000 - val_loss: 0.7822 - val_sparse_categorical_accuracy: 0.8782\n",
            "Epoch 13/15\n",
            "40000/40000 [==============================] - 47s 1ms/sample - loss: 0.3735 - sparse_categorical_accuracy: 0.9074 - val_loss: 0.7759 - val_sparse_categorical_accuracy: 0.8799\n",
            "Epoch 14/15\n",
            "40000/40000 [==============================] - 47s 1ms/sample - loss: 0.3380 - sparse_categorical_accuracy: 0.9143 - val_loss: 0.7718 - val_sparse_categorical_accuracy: 0.8816\n",
            "Epoch 15/15\n",
            "40000/40000 [==============================] - 47s 1ms/sample - loss: 0.3076 - sparse_categorical_accuracy: 0.9205 - val_loss: 0.7802 - val_sparse_categorical_accuracy: 0.8840\n"
          ],
          "name": "stdout"
        }
      ]
    },
    {
      "cell_type": "markdown",
      "metadata": {
        "id": "vAm12nEWC5HI",
        "colab_type": "text"
      },
      "source": [
        "With the full dataset, you should get an accuracy of up to 95% on the training data with a validation accuracy just below 89%. The validation accuracy starts to plateau around epoch 15, suggesting this model isn't really inferring anymore and is just overfitting.\n"
      ]
    },
    {
      "cell_type": "code",
      "metadata": {
        "id": "GbKLbAH7L4B8",
        "colab_type": "code",
        "outputId": "accfa0ec-8343-42b9-c41c-3851c50f570e",
        "colab": {
          "base_uri": "https://localhost:8080/",
          "height": 549
        }
      },
      "source": [
        "# Plot the results of the training.\n",
        "\n",
        "plt.plot(history.history['loss'], label=\"Training loss\")\n",
        "plt.plot(history.history['val_loss'], label=\"Validation loss\")\n",
        "#print(history.history[\"loss\"],history.epoch)\n",
        "plt.legend(loc=\"upper right\")\n",
        "plt.xlabel(\"epoch\")\n",
        "plt.ylabel(\"loss\")\n",
        "plt.show()\n",
        "\n",
        "plt.plot(history.history[\"sparse_categorical_accuracy\"],label=\"Training accuracy\")\n",
        "plt.plot(history.history[\"val_sparse_categorical_accuracy\"],label=\"Validation accuracy\")\n",
        "plt.legend(loc=\"upper left\")\n",
        "plt.xlabel(\"epoch\")\n",
        "plt.ylabel(\"accuracy\")\n",
        "plt.show()"
      ],
      "execution_count": 51,
      "outputs": [
        {
          "output_type": "display_data",
          "data": {
            "image/png": "[encoded data removed]",
            "text/plain": [
              "<Figure size 432x288 with 1 Axes>"
            ]
          },
          "metadata": {
            "tags": []
          }
        },
        {
          "output_type": "display_data",
          "data": {
            "image/png": "[encoded data removed]",
            "text/plain": [
              "<Figure size 432x288 with 1 Axes>"
            ]
          },
          "metadata": {
            "tags": []
          }
        }
      ]
    },
    {
      "cell_type": "markdown",
      "metadata": {
        "id": "JSk8BK0LC5HI",
        "colab_type": "text"
      },
      "source": [
        "## Inference\n",
        "The trick to our Keras seq2seq model is that Inference will require two separate models from training. This is because during training, we used a \"teacher tensor\" to force the model to continuously make predictions assuming it had gotten everything before right. Now we want it to make those predictions all by itself.\n",
        "\n",
        "To accomplish this, we need to break up the encoder and decoder mechanisms. We will then run the entire input sequence through the encoder, then form the output by executing the decoder one step at a time."
      ]
    },
    {
      "cell_type": "code",
      "metadata": {
        "id": "Wj3kFDjwC5HJ",
        "colab_type": "code",
        "colab": {}
      },
      "source": [
        "# Create the encoder model from the tensors we previously declared.\n",
        "encoder_model = Model(encoder_inputs, [encoder_outputs, state_h, state_c])\n",
        "\n",
        "# Generate a new set of tensors for our new inference decoder. Note that we are using new tensors, \n",
        "# this does not preclude using the same underlying layers that we trained on. (e.g. weights/biases).\n",
        "inf_decoder_inputs = Input(shape=(None,), name=\"inf_decoder_inputs\")\n",
        "# We'll need to force feed the two state variables into the decoder each step.\n",
        "state_input_h = Input(shape=(units,), name=\"state_input_h\")\n",
        "state_input_c = Input(shape=(units,), name=\"state_input_c\")\n",
        "decoder_res, decoder_h, decoder_c = decoder_lstm(\n",
        "    decoder_emb(inf_decoder_inputs), \n",
        "    initial_state=[state_input_h, state_input_c])\n",
        "inf_decoder_out = decoder_d2(decoder_d1(decoder_res))\n",
        "inf_model = Model(inputs=[inf_decoder_inputs, state_input_h, state_input_c], \n",
        "                  outputs=[inf_decoder_out, decoder_h, decoder_c])"
      ],
      "execution_count": 0,
      "outputs": []
    },
    {
      "cell_type": "markdown",
      "metadata": {
        "id": "AEr82SbJC5HK",
        "colab_type": "text"
      },
      "source": [
        "Now that we've got our models, let's define some functions that will assist us in actually translating a given string of text."
      ]
    },
    {
      "cell_type": "code",
      "metadata": {
        "id": "nBc96pb-C5HL",
        "colab_type": "code",
        "colab": {}
      },
      "source": [
        "# Converts the given sentence (just a string) into a vector of word IDs\n",
        "# using the language specified. This can be used for either the input (English)\n",
        "# or target (Spanish) languages.\n",
        "# Output is 1-D: [timesteps/words]\n",
        "def sentence_to_vector(sentence, lang):\n",
        "    pre = preprocess_sentence(sentence)\n",
        "    vec = np.zeros(len_input)\n",
        "    sentence_list = [lang.word2idx[s] for s in pre.split(' ')]\n",
        "    for i,w in enumerate(sentence_list):\n",
        "        vec[i] = w\n",
        "    return vec\n",
        "\n",
        "# Given an input string, an encoder model (infenc_model) and a decoder model (infmodel),\n",
        "# return a translated string.\n",
        "def translate(input_sentence, infenc_model, infmodel, attention=False):\n",
        "    sv = sentence_to_vector(input_sentence, input_lang)\n",
        "    # Reshape so we can use the encoder model. New shape=[samples,sequence length]\n",
        "    sv = sv.reshape(1,len(sv))\n",
        "    [emb_out, sh, sc] = infenc_model.predict(x=sv)\n",
        "    \n",
        "    i = 0\n",
        "    start_vec = target_lang.word2idx[\"<start>\"]\n",
        "    stop_vec = target_lang.word2idx[\"<end>\"]\n",
        "    # We will continuously feed cur_vec as an input into the decoder to produce the next word,\n",
        "    # which will be assigned to cur_vec. Start it with \"<start>\".\n",
        "    cur_vec = np.zeros((1,1))\n",
        "    cur_vec[0,0] = start_vec\n",
        "    cur_word = \"<start>\"\n",
        "    output_sentence = \"\"\n",
        "    # Start doing the feeding. Terminate when the model predicts an \"<end>\" or we reach the end\n",
        "    # of the max target language sentence length.\n",
        "    while cur_word != \"<end>\" and i < (len_target-1):\n",
        "        i += 1\n",
        "        if cur_word != \"<start>\":\n",
        "            output_sentence = output_sentence + \" \" + cur_word\n",
        "        x_in = [cur_vec, sh, sc]\n",
        "        # This will allow us to accomodate attention models, which we will talk about later.\n",
        "        if attention:\n",
        "            x_in += [emb_out]\n",
        "        [nvec, sh, sc] = infmodel.predict(x=x_in)\n",
        "        # The output of the model is a massive softmax vector with one spot for every possible word. Convert\n",
        "        # it to a word ID using argmax().\n",
        "        cur_vec[0,0] = np.argmax(nvec[0,0])\n",
        "        cur_word = target_lang.idx2word[np.argmax(nvec[0,0])]\n",
        "    return output_sentence\n",
        "    "
      ],
      "execution_count": 0,
      "outputs": []
    },
    {
      "cell_type": "code",
      "metadata": {
        "id": "_3g0DkBHC5HM",
        "colab_type": "code",
        "colab": {
          "base_uri": "https://localhost:8080/",
          "height": 68
        },
        "outputId": "05d223f3-f7f1-4941-d9a7-4b4bac6de1a6"
      },
      "source": [
        "# Let's test out the model! Feel free to modify as you see fit. Note that only words\n",
        "# that we've trained the model on will be available, otherwise you'll get an error.\n",
        "print(translate(\"I like you\", encoder_model, inf_model))\n",
        "print(translate(\"I'm so hungry\", encoder_model, inf_model))\n",
        "print(translate(\"I don't have a clue\", encoder_model, inf_model))"
      ],
      "execution_count": 58,
      "outputs": [
        {
          "output_type": "stream",
          "text": [
            " me agradas .\n",
            " estoy tan hambriento .\n",
            " no tengo idea .\n"
          ],
          "name": "stdout"
        }
      ]
    },
    {
      "cell_type": "code",
      "metadata": {
        "id": "t87yymkPC5Hc",
        "colab_type": "code",
        "colab": {}
      },
      "source": [
        ""
      ],
      "execution_count": 0,
      "outputs": []
    }
  ]
}