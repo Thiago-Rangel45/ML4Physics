{
  "nbformat": 4,
  "nbformat_minor": 0,
  "metadata": {
    "colab": {
      "provenance": [],
      "include_colab_link": true
    },
    "kernelspec": {
      "name": "python3",
      "display_name": "Python 3"
    },
    "accelerator": "GPU"
  },
  "cells": [
    {
      "cell_type": "markdown",
      "metadata": {
        "id": "view-in-github",
        "colab_type": "text"
      },
      "source": [
        "<a href=\"https://colab.research.google.com/github/UERJ-FISICA/ML4PPGF_UERJ/blob/PPGF-2023-2/Exemplos_AE/Denoising_Autoencoder.ipynb\" target=\"_parent\"><img src=\"https://colab.research.google.com/assets/colab-badge.svg\" alt=\"Open In Colab\"/></a>"
      ]
    },
    {
      "cell_type": "markdown",
      "metadata": {
        "id": "BQQxo-3ZdTWK"
      },
      "source": [
        "# Auto-encoder para limpar ruído"
      ]
    },
    {
      "cell_type": "code",
      "metadata": {
        "id": "7_ddIhNibjQ7"
      },
      "source": [
        "%matplotlib inline\n",
        "import matplotlib.pyplot as plt\n",
        "import numpy as np"
      ],
      "execution_count": 1,
      "outputs": []
    },
    {
      "cell_type": "code",
      "metadata": {
        "id": "NT7xOoNQbjRC",
        "outputId": "11f8eea2-6b42-4881-d3fa-82d23eb39970",
        "colab": {
          "base_uri": "https://localhost:8080/"
        }
      },
      "source": [
        "import keras\n",
        "\n",
        "from keras.models import Model\n",
        "from keras.datasets import mnist\n",
        "from keras.layers import Convolution2D, MaxPooling2D\n",
        "from keras.layers import Input, UpSampling2D\n",
        "\n",
        "print(keras.__version__)"
      ],
      "execution_count": 2,
      "outputs": [
        {
          "output_type": "stream",
          "name": "stdout",
          "text": [
            "2.14.0\n"
          ]
        }
      ]
    },
    {
      "cell_type": "code",
      "metadata": {
        "id": "wgEH6-0RbjRJ",
        "outputId": "281702fa-e786-4573-f684-a8635c5ee62f",
        "colab": {
          "base_uri": "https://localhost:8080/"
        }
      },
      "source": [
        "(x_train, _), (x_test, _) = mnist.load_data()"
      ],
      "execution_count": 3,
      "outputs": [
        {
          "output_type": "stream",
          "name": "stdout",
          "text": [
            "Downloading data from https://storage.googleapis.com/tensorflow/tf-keras-datasets/mnist.npz\n",
            "11490434/11490434 [==============================] - 0s 0us/step\n"
          ]
        }
      ]
    },
    {
      "cell_type": "code",
      "metadata": {
        "id": "SdwUg_kKbjRN",
        "outputId": "896f0582-ba21-4444-e743-25d7ee4053bf",
        "colab": {
          "base_uri": "https://localhost:8080/"
        }
      },
      "source": [
        "# normalize train data\n",
        "x_train = x_train.astype('float32') / 255.\n",
        "x_train = np.reshape(x_train, (len(x_train), 28, 28, 1))\n",
        "print(x_train.shape)"
      ],
      "execution_count": 4,
      "outputs": [
        {
          "output_type": "stream",
          "name": "stdout",
          "text": [
            "(60000, 28, 28, 1)\n"
          ]
        }
      ]
    },
    {
      "cell_type": "code",
      "metadata": {
        "id": "3bWhIeOhbjRT",
        "outputId": "4e82f566-80de-4d99-8f52-5a082bb34ea7",
        "colab": {
          "base_uri": "https://localhost:8080/"
        }
      },
      "source": [
        "# normalize test data (which serves as our labels)\n",
        "x_test = x_test.astype('float32') / 255.\n",
        "x_test = np.reshape(x_test, (len(x_test), 28, 28, 1))\n",
        "print(x_test.shape)"
      ],
      "execution_count": 5,
      "outputs": [
        {
          "output_type": "stream",
          "name": "stdout",
          "text": [
            "(10000, 28, 28, 1)\n"
          ]
        }
      ]
    },
    {
      "cell_type": "code",
      "metadata": {
        "id": "IjDpf7ZhbjRZ"
      },
      "source": [
        "# create noisy data for train and test\n",
        "noise_factor = 0.5\n",
        "x_train_noisy = x_train + noise_factor * np.random.normal(loc=0.0, scale=1.0, size=x_train.shape)\n",
        "x_test_noisy = x_test + noise_factor * np.random.normal(loc=0.0, scale=1.0, size=x_test.shape)"
      ],
      "execution_count": 6,
      "outputs": []
    },
    {
      "cell_type": "code",
      "metadata": {
        "id": "419qdXvGbjRe"
      },
      "source": [
        "# renormalize through clipping\n",
        "x_train_noisy = np.clip(x_train_noisy, 0., 1.)\n",
        "x_test_noisy = np.clip(x_test_noisy, 0., 1.)"
      ],
      "execution_count": 7,
      "outputs": []
    },
    {
      "cell_type": "code",
      "metadata": {
        "id": "AI4rRjfFbjRj"
      },
      "source": [
        "# create the encode network\n",
        "input_img = Input(shape=(28,28,1))\n",
        "x = Convolution2D(32,(3,3),activation='relu', padding='same')(input_img)\n",
        "x = MaxPooling2D((2,2),padding='same')(x)\n",
        "x = Convolution2D(32,(3,3),activation='relu', padding='same')(x)\n",
        "encoded = MaxPooling2D((2,2), padding='same')(x)\n",
        "# 7,7,32"
      ],
      "execution_count": 21,
      "outputs": []
    },
    {
      "cell_type": "code",
      "metadata": {
        "id": "uXGYapMebjRp"
      },
      "source": [
        "# create the decode network\n",
        "x = Convolution2D(32,(3,3),activation='relu',padding='same')(encoded)\n",
        "x = UpSampling2D((2,2))(x)\n",
        "x = Convolution2D(32,(3,3),activation='relu',padding='same')(x)\n",
        "x = UpSampling2D((2,2))(x)\n",
        "decoded = Convolution2D(1,(3,3),activation='sigmoid',padding='same')(x)\n",
        "#back to 28,28,1"
      ],
      "execution_count": 22,
      "outputs": []
    },
    {
      "cell_type": "code",
      "metadata": {
        "id": "xYAIb142bjRu",
        "outputId": "0a01cdf4-18c5-4237-b3eb-219bc583df99",
        "colab": {
          "base_uri": "https://localhost:8080/"
        }
      },
      "source": [
        "# create the autoencoder by tying the encode and decode networks together\n",
        "autoencoder = Model(input_img, decoded)\n",
        "autoencoder.compile(optimizer='adam',loss='binary_crossentropy')\n",
        "autoencoder.summary()"
      ],
      "execution_count": 23,
      "outputs": [
        {
          "output_type": "stream",
          "name": "stdout",
          "text": [
            "Model: \"model_1\"\n",
            "_________________________________________________________________\n",
            " Layer (type)                Output Shape              Param #   \n",
            "=================================================================\n",
            " input_9 (InputLayer)        [(None, 28, 28, 1)]       0         \n",
            "                                                                 \n",
            " conv2d_13 (Conv2D)          (None, 28, 28, 32)        320       \n",
            "                                                                 \n",
            " max_pooling2d_6 (MaxPoolin  (None, 14, 14, 32)        0         \n",
            " g2D)                                                            \n",
            "                                                                 \n",
            " conv2d_14 (Conv2D)          (None, 14, 14, 32)        9248      \n",
            "                                                                 \n",
            " max_pooling2d_7 (MaxPoolin  (None, 7, 7, 32)          0         \n",
            " g2D)                                                            \n",
            "                                                                 \n",
            " conv2d_15 (Conv2D)          (None, 7, 7, 32)          9248      \n",
            "                                                                 \n",
            " up_sampling2d_2 (UpSamplin  (None, 14, 14, 32)        0         \n",
            " g2D)                                                            \n",
            "                                                                 \n",
            " conv2d_16 (Conv2D)          (None, 14, 14, 32)        9248      \n",
            "                                                                 \n",
            " up_sampling2d_3 (UpSamplin  (None, 28, 28, 32)        0         \n",
            " g2D)                                                            \n",
            "                                                                 \n",
            " conv2d_17 (Conv2D)          (None, 28, 28, 1)         289       \n",
            "                                                                 \n",
            "=================================================================\n",
            "Total params: 28353 (110.75 KB)\n",
            "Trainable params: 28353 (110.75 KB)\n",
            "Non-trainable params: 0 (0.00 Byte)\n",
            "_________________________________________________________________\n"
          ]
        }
      ]
    },
    {
      "cell_type": "code",
      "metadata": {
        "id": "4KgiCI4VbjR2",
        "outputId": "5ee257a0-10fb-4e8a-89d8-e0505da7f14f",
        "colab": {
          "base_uri": "https://localhost:8080/"
        }
      },
      "source": [
        "# train\n",
        "autoencoder.fit(x_train_noisy, x_train,\n",
        "  epochs=10,\n",
        "  batch_size=256,\n",
        "  shuffle=True,\n",
        "  validation_data=(x_test_noisy, x_test))"
      ],
      "execution_count": 24,
      "outputs": [
        {
          "output_type": "stream",
          "name": "stdout",
          "text": [
            "Epoch 1/10\n",
            "235/235 [==============================] - 14s 13ms/step - loss: 0.2110 - val_loss: 0.1261\n",
            "Epoch 2/10\n",
            "235/235 [==============================] - 3s 11ms/step - loss: 0.1212 - val_loss: 0.1154\n",
            "Epoch 3/10\n",
            "235/235 [==============================] - 3s 11ms/step - loss: 0.1143 - val_loss: 0.1109\n",
            "Epoch 4/10\n",
            "235/235 [==============================] - 3s 11ms/step - loss: 0.1105 - val_loss: 0.1082\n",
            "Epoch 5/10\n",
            "235/235 [==============================] - 3s 12ms/step - loss: 0.1079 - val_loss: 0.1057\n",
            "Epoch 6/10\n",
            "235/235 [==============================] - 2s 10ms/step - loss: 0.1061 - val_loss: 0.1046\n",
            "Epoch 7/10\n",
            "235/235 [==============================] - 3s 11ms/step - loss: 0.1047 - val_loss: 0.1031\n",
            "Epoch 8/10\n",
            "235/235 [==============================] - 3s 11ms/step - loss: 0.1036 - val_loss: 0.1031\n",
            "Epoch 9/10\n",
            "235/235 [==============================] - 3s 12ms/step - loss: 0.1027 - val_loss: 0.1018\n",
            "Epoch 10/10\n",
            "235/235 [==============================] - 3s 11ms/step - loss: 0.1020 - val_loss: 0.1010\n"
          ]
        },
        {
          "output_type": "execute_result",
          "data": {
            "text/plain": [
              "<keras.src.callbacks.History at 0x7ad11ab221a0>"
            ]
          },
          "metadata": {},
          "execution_count": 24
        }
      ]
    },
    {
      "cell_type": "code",
      "metadata": {
        "id": "37I9k7fybjR9",
        "outputId": "95d1289b-df45-4091-c55f-4d5320ba63ee",
        "colab": {
          "base_uri": "https://localhost:8080/"
        }
      },
      "source": [
        "# create the encoder model\n",
        "encoder = Model(input_img, encoded)\n",
        "encoder.summary()"
      ],
      "execution_count": 27,
      "outputs": [
        {
          "output_type": "stream",
          "name": "stdout",
          "text": [
            "Model: \"model_2\"\n",
            "_________________________________________________________________\n",
            " Layer (type)                Output Shape              Param #   \n",
            "=================================================================\n",
            " input_9 (InputLayer)        [(None, 28, 28, 1)]       0         \n",
            "                                                                 \n",
            " conv2d_13 (Conv2D)          (None, 28, 28, 32)        320       \n",
            "                                                                 \n",
            " max_pooling2d_6 (MaxPoolin  (None, 14, 14, 32)        0         \n",
            " g2D)                                                            \n",
            "                                                                 \n",
            " conv2d_14 (Conv2D)          (None, 14, 14, 32)        9248      \n",
            "                                                                 \n",
            " max_pooling2d_7 (MaxPoolin  (None, 7, 7, 32)          0         \n",
            " g2D)                                                            \n",
            "                                                                 \n",
            "=================================================================\n",
            "Total params: 9568 (37.38 KB)\n",
            "Trainable params: 9568 (37.38 KB)\n",
            "Non-trainable params: 0 (0.00 Byte)\n",
            "_________________________________________________________________\n"
          ]
        }
      ]
    },
    {
      "cell_type": "code",
      "metadata": {
        "id": "_KUCQ7xjbjSF",
        "outputId": "22eabe31-e06b-41d5-9776-c4ba5a7d2bbe",
        "colab": {
          "base_uri": "https://localhost:8080/"
        }
      },
      "source": [
        "# create the decoder model\n",
        "encoded_input = Input(shape=(7,7,32))\n",
        "\n",
        "# this is pretty ugly. is there a better way? like layer.pop?\n",
        "decoder1 = autoencoder.layers[-5]\n",
        "decoder2 = autoencoder.layers[-4]\n",
        "decoder3 = autoencoder.layers[-3]\n",
        "decoder4 = autoencoder.layers[-2]\n",
        "decoder5 = autoencoder.layers[-1]\n",
        "decoder = Model(encoded_input, decoder5(decoder4(decoder3(decoder2(decoder1(encoded_input))))))\n",
        "decoder.summary()"
      ],
      "execution_count": 29,
      "outputs": [
        {
          "output_type": "stream",
          "name": "stdout",
          "text": [
            "Model: \"model_3\"\n",
            "_________________________________________________________________\n",
            " Layer (type)                Output Shape              Param #   \n",
            "=================================================================\n",
            " input_11 (InputLayer)       [(None, 7, 7, 32)]        0         \n",
            "                                                                 \n",
            " conv2d_15 (Conv2D)          (None, 7, 7, 32)          9248      \n",
            "                                                                 \n",
            " up_sampling2d_2 (UpSamplin  (None, 14, 14, 32)        0         \n",
            " g2D)                                                            \n",
            "                                                                 \n",
            " conv2d_16 (Conv2D)          (None, 14, 14, 32)        9248      \n",
            "                                                                 \n",
            " up_sampling2d_3 (UpSamplin  (None, 28, 28, 32)        0         \n",
            " g2D)                                                            \n",
            "                                                                 \n",
            " conv2d_17 (Conv2D)          (None, 28, 28, 1)         289       \n",
            "                                                                 \n",
            "=================================================================\n",
            "Total params: 18785 (73.38 KB)\n",
            "Trainable params: 18785 (73.38 KB)\n",
            "Non-trainable params: 0 (0.00 Byte)\n",
            "_________________________________________________________________\n"
          ]
        }
      ]
    },
    {
      "cell_type": "code",
      "metadata": {
        "id": "rvVzDTSobjSM",
        "outputId": "13bb07a2-bac6-4eac-868a-e3a9dde547cb",
        "colab": {
          "base_uri": "https://localhost:8080/"
        }
      },
      "source": [
        "# run noisy test data through the encoder\n",
        "encoded_imgs = encoder.predict(x_test_noisy)\n",
        "\n",
        "# run encoded noisy test image back through the decoder\n",
        "decoded_imgs = decoder.predict(encoded_imgs)\n",
        "\n",
        "# make sense of the shapes\n",
        "print(encoded_imgs.shape)\n",
        "print(decoded_imgs.shape)"
      ],
      "execution_count": 30,
      "outputs": [
        {
          "output_type": "stream",
          "name": "stdout",
          "text": [
            "313/313 [==============================] - 1s 1ms/step\n",
            "313/313 [==============================] - 1s 2ms/step\n",
            "(10000, 7, 7, 32)\n",
            "(10000, 28, 28, 1)\n"
          ]
        }
      ]
    },
    {
      "cell_type": "code",
      "metadata": {
        "id": "078A2ZAEbjST",
        "outputId": "ea1c0fa0-22b1-4029-dfc4-c0ffd591b854",
        "colab": {
          "base_uri": "https://localhost:8080/",
          "height": 290
        }
      },
      "source": [
        "# display the images\n",
        "n = 10\n",
        "plt.figure(figsize=(30,6))\n",
        "for i in range(n):\n",
        "  # noisy images\n",
        "  ax = plt.subplot(3,n,i+1)\n",
        "  plt.imshow(x_test_noisy[i].reshape(28,28))\n",
        "  plt.gray()\n",
        "  ax.get_xaxis().set_visible(False)\n",
        "  ax.get_yaxis().set_visible(False)\n",
        "\n",
        "  # denoised images\n",
        "  ax = plt.subplot(3,n,i+1+n)\n",
        "  plt.imshow(decoded_imgs[i].reshape(28,28))\n",
        "  plt.gray()\n",
        "  ax.get_xaxis().set_visible(False)\n",
        "  ax.get_yaxis().set_visible(False)\n",
        "\n",
        "  # original images\n",
        "  ax = plt.subplot(3,n,i+1+n*2)\n",
        "  plt.imshow(x_test[i].reshape(28,28))\n",
        "  plt.gray()\n",
        "  ax.get_xaxis().set_visible(False)\n",
        "  ax.get_yaxis().set_visible(False)\n",
        "plt.show()"
      ],
      "execution_count": 31,
      "outputs": [
        {
          "output_type": "display_data",
          "data": {
            "text/plain": [
              "<Figure size 3000x600 with 30 Axes>"
            ],
            "image/png": "[encoded data removed]"
          },
          "metadata": {}
        }
      ]
    }
  ]
}