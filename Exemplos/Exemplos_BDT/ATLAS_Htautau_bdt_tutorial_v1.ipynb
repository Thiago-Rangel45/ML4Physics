{
  "nbformat": 4,
  "nbformat_minor": 0,
  "metadata": {
    "kernelspec": {
      "display_name": "Python [default]",
      "language": "python",
      "name": "python3"
    },
    "language_info": {
      "codemirror_mode": {
        "name": "ipython",
        "version": 3
      },
      "file_extension": ".py",
      "mimetype": "text/x-python",
      "name": "python",
      "nbconvert_exporter": "python",
      "pygments_lexer": "ipython3",
      "version": "3.5.4"
    },
    "colab": {
      "name": "ATLAS_Htautau_bdt_tutorial.ipynb",
      "version": "0.3.2",
      "provenance": [],
      "toc_visible": true,
      "include_colab_link": true
    }
  },
  "cells": [
    {
      "cell_type": "markdown",
      "metadata": {
        "id": "view-in-github",
        "colab_type": "text"
      },
      "source": [
        "<a href=\"https://colab.research.google.com/github/clemencia/ML4PPGF_UERJ/blob/master/ATLAS_Htautau_bdt_tutorial_v1.ipynb\" target=\"_parent\"><img src=\"https://colab.research.google.com/assets/colab-badge.svg\" alt=\"Open In Colab\"/></a>"
      ]
    },
    {
      "cell_type": "markdown",
      "metadata": {
        "id": "O0sO8bbDW7TV",
        "colab_type": "text"
      },
      "source": [
        "# Boosted decision tree tutorial\n",
        "\n",
        "***\n",
        "## Introduction:\n",
        "#### Boosted decision tree code:\n",
        "We'll use the python API for the [XGBoost (eXtreme Gradient Boosting) library](https://github.com/dmlc/xgboost).\n",
        "\n",
        "#### Data:\n",
        "[Atlas](https://home.cern/about/experiments/atlas) hosted a [Kaggle](https://www.kaggle.com/) competition for identifying Higgs to tau tau events, [the Higgs Boson Machine Learning Challenge](https://www.kaggle.com/c/higgs-boson/data). The training data for this event contains 250,000 labeled, simulated Atlas events in csv format described [here](https://www.kaggle.com/c/higgs-boson/data) and [here](https://higgsml.lal.in2p3.fr/files/2014/04/documentation_v1.8.pdf). You can download it youself, or we have a small subset (10k events) in the \"data\" directory in this repository that we use here.\n",
        "\n",
        "#### Data handling:\n",
        "If you don't have [pandas](http://pandas.pydata.org/), you should get pandas. It's an amazing tool for exploring data in Python.\n",
        "***\n",
        "#### Install XGBoost:\n",
        "Assuming you have python, numpy, matplotlib, and pandas installed, you just need to install XGBoost. Detailed installation instructions are [here](https://xgboost.readthedocs.io/en/latest/build.html). If you're on Ubuntu, just do this (in your terminal):\n",
        "```bash\n",
        "git clone --recursive https://github.com/dmlc/xgboost\n",
        "cd xgboost\n",
        "make\n",
        "```\n",
        "***\n",
        "#### Links:\n",
        "A lot of this was borrowed from other sources. These sources and other good places for information about XGBoost and BDTs in general are here:\n",
        "\n",
        "XGBoost demo: [Example of how to use XGBoost Python Module to run Kaggle Higgs competition](https://github.com/dmlc/xgboost/tree/master/demo/kaggle-higgs)\n",
        "\n",
        "Blog post by phunther: [Winning solution of Kaggle Higgs competition: what a single model can do?](https://no2147483647.wordpress.com/2014/09/17/winning-solution-of-kaggle-higgs-competition-what-a-single-model-can-do/)\n",
        "\n",
        "XGBoost Kaggle Higgs solution: https://github.com/hetong007/higgsml\n",
        "\n",
        "***"
      ]
    },
    {
      "cell_type": "markdown",
      "metadata": {
        "id": "D0lumPuFW7TY",
        "colab_type": "text"
      },
      "source": [
        "## Tutorial:"
      ]
    },
    {
      "cell_type": "code",
      "metadata": {
        "id": "3R3d9v8oW7TZ",
        "colab_type": "code",
        "colab": {}
      },
      "source": [
        "import pandas as pd\n",
        "import numpy as np\n",
        "import matplotlib.pyplot as plt\n",
        "import xgboost as xgb\n",
        "\n",
        "%matplotlib inline"
      ],
      "execution_count": 0,
      "outputs": []
    },
    {
      "cell_type": "markdown",
      "metadata": {
        "id": "a-qMjb0VW7Tg",
        "colab_type": "text"
      },
      "source": [
        "### The data\n",
        "#### Load data:\n",
        "First, load in the data and look at it. We've taken a 10k event subsample of the Kaggle training data. Then we'll put it in the right format for xgboost."
      ]
    },
    {
      "cell_type": "code",
      "metadata": {
        "id": "Yll49vWTW7Ti",
        "colab_type": "code",
        "colab": {}
      },
      "source": [
        "data = pd.read_csv('/content/training_10k.csv')"
      ],
      "execution_count": 0,
      "outputs": []
    },
    {
      "cell_type": "code",
      "metadata": {
        "id": "71DREFUzXlGL",
        "colab_type": "code",
        "outputId": "4cd04081-ffaf-44d2-94fd-a377d67074eb",
        "colab": {
          "base_uri": "https://localhost:8080/",
          "height": 224
        }
      },
      "source": [
        "data.head()"
      ],
      "execution_count": 0,
      "outputs": [
        {
          "output_type": "execute_result",
          "data": {
            "text/html": [
              "<div>\n",
              "<style scoped>\n",
              "    .dataframe tbody tr th:only-of-type {\n",
              "        vertical-align: middle;\n",
              "    }\n",
              "\n",
              "    .dataframe tbody tr th {\n",
              "        vertical-align: top;\n",
              "    }\n",
              "\n",
              "    .dataframe thead th {\n",
              "        text-align: right;\n",
              "    }\n",
              "</style>\n",
              "<table border=\"1\" class=\"dataframe\">\n",
              "  <thead>\n",
              "    <tr style=\"text-align: right;\">\n",
              "      <th></th>\n",
              "      <th>EventId</th>\n",
              "      <th>DER_mass_MMC</th>\n",
              "      <th>DER_mass_transverse_met_lep</th>\n",
              "      <th>DER_mass_vis</th>\n",
              "      <th>DER_pt_h</th>\n",
              "      <th>DER_deltaeta_jet_jet</th>\n",
              "      <th>DER_mass_jet_jet</th>\n",
              "      <th>DER_prodeta_jet_jet</th>\n",
              "      <th>DER_deltar_tau_lep</th>\n",
              "      <th>DER_pt_tot</th>\n",
              "      <th>DER_sum_pt</th>\n",
              "      <th>DER_pt_ratio_lep_tau</th>\n",
              "      <th>DER_met_phi_centrality</th>\n",
              "      <th>DER_lep_eta_centrality</th>\n",
              "      <th>PRI_tau_pt</th>\n",
              "      <th>PRI_tau_eta</th>\n",
              "      <th>PRI_tau_phi</th>\n",
              "      <th>PRI_lep_pt</th>\n",
              "      <th>PRI_lep_eta</th>\n",
              "      <th>PRI_lep_phi</th>\n",
              "      <th>PRI_met</th>\n",
              "      <th>PRI_met_phi</th>\n",
              "      <th>PRI_met_sumet</th>\n",
              "      <th>PRI_jet_num</th>\n",
              "      <th>PRI_jet_leading_pt</th>\n",
              "      <th>PRI_jet_leading_eta</th>\n",
              "      <th>PRI_jet_leading_phi</th>\n",
              "      <th>PRI_jet_subleading_pt</th>\n",
              "      <th>PRI_jet_subleading_eta</th>\n",
              "      <th>PRI_jet_subleading_phi</th>\n",
              "      <th>PRI_jet_all_pt</th>\n",
              "      <th>Weight</th>\n",
              "      <th>Label</th>\n",
              "    </tr>\n",
              "  </thead>\n",
              "  <tbody>\n",
              "    <tr>\n",
              "      <th>0</th>\n",
              "      <td>100000</td>\n",
              "      <td>138.470</td>\n",
              "      <td>51.655</td>\n",
              "      <td>97.827</td>\n",
              "      <td>27.980</td>\n",
              "      <td>0.91</td>\n",
              "      <td>124.711</td>\n",
              "      <td>2.666</td>\n",
              "      <td>3.064</td>\n",
              "      <td>41.928</td>\n",
              "      <td>197.760</td>\n",
              "      <td>1.582</td>\n",
              "      <td>1.396</td>\n",
              "      <td>0.2</td>\n",
              "      <td>32.638</td>\n",
              "      <td>1.017</td>\n",
              "      <td>0.381</td>\n",
              "      <td>51.626</td>\n",
              "      <td>2.273</td>\n",
              "      <td>-2.414</td>\n",
              "      <td>16.824</td>\n",
              "      <td>-0.277</td>\n",
              "      <td>258.733</td>\n",
              "      <td>2</td>\n",
              "      <td>67.435</td>\n",
              "      <td>2.150</td>\n",
              "      <td>0.444</td>\n",
              "      <td>46.062</td>\n",
              "      <td>1.24</td>\n",
              "      <td>-2.475</td>\n",
              "      <td>113.497</td>\n",
              "      <td>0.002653</td>\n",
              "      <td>s</td>\n",
              "    </tr>\n",
              "    <tr>\n",
              "      <th>1</th>\n",
              "      <td>100001</td>\n",
              "      <td>160.937</td>\n",
              "      <td>68.768</td>\n",
              "      <td>103.235</td>\n",
              "      <td>48.146</td>\n",
              "      <td>-999.00</td>\n",
              "      <td>-999.000</td>\n",
              "      <td>-999.000</td>\n",
              "      <td>3.473</td>\n",
              "      <td>2.078</td>\n",
              "      <td>125.157</td>\n",
              "      <td>0.879</td>\n",
              "      <td>1.414</td>\n",
              "      <td>-999.0</td>\n",
              "      <td>42.014</td>\n",
              "      <td>2.039</td>\n",
              "      <td>-3.011</td>\n",
              "      <td>36.918</td>\n",
              "      <td>0.501</td>\n",
              "      <td>0.103</td>\n",
              "      <td>44.704</td>\n",
              "      <td>-1.916</td>\n",
              "      <td>164.546</td>\n",
              "      <td>1</td>\n",
              "      <td>46.226</td>\n",
              "      <td>0.725</td>\n",
              "      <td>1.158</td>\n",
              "      <td>-999.000</td>\n",
              "      <td>-999.00</td>\n",
              "      <td>-999.000</td>\n",
              "      <td>46.226</td>\n",
              "      <td>2.233584</td>\n",
              "      <td>b</td>\n",
              "    </tr>\n",
              "    <tr>\n",
              "      <th>2</th>\n",
              "      <td>100002</td>\n",
              "      <td>-999.000</td>\n",
              "      <td>162.172</td>\n",
              "      <td>125.953</td>\n",
              "      <td>35.635</td>\n",
              "      <td>-999.00</td>\n",
              "      <td>-999.000</td>\n",
              "      <td>-999.000</td>\n",
              "      <td>3.148</td>\n",
              "      <td>9.336</td>\n",
              "      <td>197.814</td>\n",
              "      <td>3.776</td>\n",
              "      <td>1.414</td>\n",
              "      <td>-999.0</td>\n",
              "      <td>32.154</td>\n",
              "      <td>-0.705</td>\n",
              "      <td>-2.093</td>\n",
              "      <td>121.409</td>\n",
              "      <td>-0.953</td>\n",
              "      <td>1.052</td>\n",
              "      <td>54.283</td>\n",
              "      <td>-2.186</td>\n",
              "      <td>260.414</td>\n",
              "      <td>1</td>\n",
              "      <td>44.251</td>\n",
              "      <td>2.053</td>\n",
              "      <td>-2.028</td>\n",
              "      <td>-999.000</td>\n",
              "      <td>-999.00</td>\n",
              "      <td>-999.000</td>\n",
              "      <td>44.251</td>\n",
              "      <td>2.347389</td>\n",
              "      <td>b</td>\n",
              "    </tr>\n",
              "    <tr>\n",
              "      <th>3</th>\n",
              "      <td>100003</td>\n",
              "      <td>143.905</td>\n",
              "      <td>81.417</td>\n",
              "      <td>80.943</td>\n",
              "      <td>0.414</td>\n",
              "      <td>-999.00</td>\n",
              "      <td>-999.000</td>\n",
              "      <td>-999.000</td>\n",
              "      <td>3.310</td>\n",
              "      <td>0.414</td>\n",
              "      <td>75.968</td>\n",
              "      <td>2.354</td>\n",
              "      <td>-1.285</td>\n",
              "      <td>-999.0</td>\n",
              "      <td>22.647</td>\n",
              "      <td>-1.655</td>\n",
              "      <td>0.010</td>\n",
              "      <td>53.321</td>\n",
              "      <td>-0.522</td>\n",
              "      <td>-3.100</td>\n",
              "      <td>31.082</td>\n",
              "      <td>0.060</td>\n",
              "      <td>86.062</td>\n",
              "      <td>0</td>\n",
              "      <td>-999.000</td>\n",
              "      <td>-999.000</td>\n",
              "      <td>-999.000</td>\n",
              "      <td>-999.000</td>\n",
              "      <td>-999.00</td>\n",
              "      <td>-999.000</td>\n",
              "      <td>-0.000</td>\n",
              "      <td>5.446378</td>\n",
              "      <td>b</td>\n",
              "    </tr>\n",
              "    <tr>\n",
              "      <th>4</th>\n",
              "      <td>100004</td>\n",
              "      <td>175.864</td>\n",
              "      <td>16.915</td>\n",
              "      <td>134.805</td>\n",
              "      <td>16.405</td>\n",
              "      <td>-999.00</td>\n",
              "      <td>-999.000</td>\n",
              "      <td>-999.000</td>\n",
              "      <td>3.891</td>\n",
              "      <td>16.405</td>\n",
              "      <td>57.983</td>\n",
              "      <td>1.056</td>\n",
              "      <td>-1.385</td>\n",
              "      <td>-999.0</td>\n",
              "      <td>28.209</td>\n",
              "      <td>-2.197</td>\n",
              "      <td>-2.231</td>\n",
              "      <td>29.774</td>\n",
              "      <td>0.798</td>\n",
              "      <td>1.569</td>\n",
              "      <td>2.723</td>\n",
              "      <td>-0.871</td>\n",
              "      <td>53.131</td>\n",
              "      <td>0</td>\n",
              "      <td>-999.000</td>\n",
              "      <td>-999.000</td>\n",
              "      <td>-999.000</td>\n",
              "      <td>-999.000</td>\n",
              "      <td>-999.00</td>\n",
              "      <td>-999.000</td>\n",
              "      <td>0.000</td>\n",
              "      <td>6.245333</td>\n",
              "      <td>b</td>\n",
              "    </tr>\n",
              "  </tbody>\n",
              "</table>\n",
              "</div>"
            ],
            "text/plain": [
              "   EventId  DER_mass_MMC  ...    Weight  Label\n",
              "0   100000       138.470  ...  0.002653      s\n",
              "1   100001       160.937  ...  2.233584      b\n",
              "2   100002      -999.000  ...  2.347389      b\n",
              "3   100003       143.905  ...  5.446378      b\n",
              "4   100004       175.864  ...  6.245333      b\n",
              "\n",
              "[5 rows x 33 columns]"
            ]
          },
          "metadata": {
            "tags": []
          },
          "execution_count": 4
        }
      ]
    },
    {
      "cell_type": "markdown",
      "metadata": {
        "id": "khgY9qCkW7Tn",
        "colab_type": "text"
      },
      "source": [
        "Let's see what the data looks like:"
      ]
    },
    {
      "cell_type": "code",
      "metadata": {
        "id": "IxGYWeQLW7To",
        "colab_type": "code",
        "outputId": "cd2d8902-97a2-4b4d-91ed-1b516d065085",
        "colab": {
          "base_uri": "https://localhost:8080/",
          "height": 663
        }
      },
      "source": [
        "print('Size of data: {}'.format(data.shape))\n",
        "print('Number of events: {}'.format(data.shape[0]))\n",
        "print('Number of columns: {}'.format(data.shape[1]))\n",
        "\n",
        "print ('\\nList of features in dataset:')\n",
        "for col in data.columns:\n",
        "    print(col)"
      ],
      "execution_count": 0,
      "outputs": [
        {
          "output_type": "stream",
          "text": [
            "Size of data: (10000, 33)\n",
            "Number of events: 10000\n",
            "Number of columns: 33\n",
            "\n",
            "List of features in dataset:\n",
            "EventId\n",
            "DER_mass_MMC\n",
            "DER_mass_transverse_met_lep\n",
            "DER_mass_vis\n",
            "DER_pt_h\n",
            "DER_deltaeta_jet_jet\n",
            "DER_mass_jet_jet\n",
            "DER_prodeta_jet_jet\n",
            "DER_deltar_tau_lep\n",
            "DER_pt_tot\n",
            "DER_sum_pt\n",
            "DER_pt_ratio_lep_tau\n",
            "DER_met_phi_centrality\n",
            "DER_lep_eta_centrality\n",
            "PRI_tau_pt\n",
            "PRI_tau_eta\n",
            "PRI_tau_phi\n",
            "PRI_lep_pt\n",
            "PRI_lep_eta\n",
            "PRI_lep_phi\n",
            "PRI_met\n",
            "PRI_met_phi\n",
            "PRI_met_sumet\n",
            "PRI_jet_num\n",
            "PRI_jet_leading_pt\n",
            "PRI_jet_leading_eta\n",
            "PRI_jet_leading_phi\n",
            "PRI_jet_subleading_pt\n",
            "PRI_jet_subleading_eta\n",
            "PRI_jet_subleading_phi\n",
            "PRI_jet_all_pt\n",
            "Weight\n",
            "Label\n"
          ],
          "name": "stdout"
        }
      ]
    },
    {
      "cell_type": "markdown",
      "metadata": {
        "id": "SpVe5oMDW7T0",
        "colab_type": "text"
      },
      "source": [
        "The data set has 10,000 events with 33 columns each. It looks like the first column is an identifier, and shouldn't be used as a feature. The last two columns \"Weight\" and \"Label\", are the weights and labels from the simulation, and also shouldn't be used as features (this information is all contained in the documentation).\n",
        "\n",
        "Now we can look at how many events are signal and background:"
      ]
    },
    {
      "cell_type": "code",
      "metadata": {
        "id": "BZNF8aP6W7T4",
        "colab_type": "code",
        "outputId": "1b03e24d-4084-4d77-8057-d3136f52829e",
        "colab": {
          "base_uri": "https://localhost:8080/",
          "height": 68
        }
      },
      "source": [
        "# look at column labels --- notice last one is \"Label\" and first is \"EventId\" also \"Weight\"\n",
        "print('Number of signal events: {}'.format(len(data[data.Label == 's'])))\n",
        "print('Number of background events: {}'.format(len(data[data.Label == 'b'])))\n",
        "print('Fraction signal: {}'.format(len(data[data.Label == 's'])/(float)(len(data[data.Label == 's']) + len(data[data.Label == 'b']))))"
      ],
      "execution_count": 0,
      "outputs": [
        {
          "output_type": "stream",
          "text": [
            "Number of signal events: 3372\n",
            "Number of background events: 6628\n",
            "Fraction signal: 0.3372\n"
          ],
          "name": "stdout"
        }
      ]
    },
    {
      "cell_type": "markdown",
      "metadata": {
        "id": "V8M5bqQnW7T-",
        "colab_type": "text"
      },
      "source": [
        "#### Format data:\n",
        "Now we should get the data into an XGBoost-friendly format. We can create DMatrix objects that will be used to train the BDT model. For now, we'll use all 30 of the features for training.\n",
        "\n",
        "First, we'll sliceup the data into training and testing sets. Here, we take 20% for the test set, which is arbitrary.\n",
        "\n",
        "In this file, all samples are independent and ordered randomly, so we can just grab a chunk. Check out [scikit-learn Cross-validation](http://scikit-learn.org/stable/modules/cross_validation.html) for dividing up samples in a responsible way.\n",
        "\n",
        "We can also change the data type of the \"Label\" column to the pandas type \"category\" for easier use later."
      ]
    },
    {
      "cell_type": "code",
      "metadata": {
        "id": "w3W9IUBNW7UA",
        "colab_type": "code",
        "colab": {}
      },
      "source": [
        "data['Label'] = data.Label.astype('category')\n"
      ],
      "execution_count": 0,
      "outputs": []
    },
    {
      "cell_type": "code",
      "metadata": {
        "id": "N4eLhIpFW7UG",
        "colab_type": "code",
        "colab": {}
      },
      "source": [
        "data_train = data[:8000]\n",
        "data_test = data[8000:]\n"
      ],
      "execution_count": 0,
      "outputs": []
    },
    {
      "cell_type": "markdown",
      "metadata": {
        "id": "2N9PuWovW7Ua",
        "colab_type": "text"
      },
      "source": [
        "Check to make sure we did it right:"
      ]
    },
    {
      "cell_type": "code",
      "metadata": {
        "id": "1nDbZzjyW7Uh",
        "colab_type": "code",
        "outputId": "27517d17-8d3c-469e-db6a-1e18ca2f99e6",
        "colab": {
          "base_uri": "https://localhost:8080/",
          "height": 306
        }
      },
      "source": [
        "print('Number of training samples: {}'.format(len(data_train)))\n",
        "print('Number of testing samples: {}'.format(len(data_test)))\n",
        "\n",
        "print('\\nNumber of signal events in training set: {}'.format(len(data_train[data_train.Label == 's'])))\n",
        "print('Number of background events in training set: {}'.format(len(data_train[data_train.Label == 'b'])))\n",
        "print('Fraction signal: {}'.format(len(data_train[data_train.Label == 's'])/(float)(len(data_train[data_train.Label == 's']) + len(data_train[data_train.Label == 'b']))))\n",
        "\n",
        "print(data_train.Label.cat.codes[0:10])"
      ],
      "execution_count": 0,
      "outputs": [
        {
          "output_type": "stream",
          "text": [
            "Number of training samples: 8000\n",
            "Number of testing samples: 2000\n",
            "\n",
            "Number of signal events in training set: 2688\n",
            "Number of background events in training set: 5312\n",
            "Fraction signal: 0.336\n",
            "0    1\n",
            "1    0\n",
            "2    0\n",
            "3    0\n",
            "4    0\n",
            "5    0\n",
            "6    1\n",
            "7    1\n",
            "8    0\n",
            "9    1\n",
            "dtype: int8\n"
          ],
          "name": "stdout"
        }
      ]
    },
    {
      "cell_type": "markdown",
      "metadata": {
        "id": "jPSPWwheW7U1",
        "colab_type": "text"
      },
      "source": [
        "The DMatrix object takes as arguments:\n",
        "- data --- the features\n",
        "- label --- 1/0 or true/false for binary data (we have to convert our label to bool from string s/b)\n",
        "- missing --- how missing values are represented (here as -999.0)\n",
        "- feature_names --- the names of all of the features (optional)"
      ]
    },
    {
      "cell_type": "code",
      "metadata": {
        "id": "fxwK2EPhW7U9",
        "colab_type": "code",
        "outputId": "1096de19-891e-4365-e2ca-74246294f1b8",
        "colab": {
          "base_uri": "https://localhost:8080/",
          "height": 105
        }
      },
      "source": [
        "feature_names = data.columns[1:-2]  # we skip the first and last two columns because they are the ID, weight, and label\n",
        "train = xgb.DMatrix(data=data_train[feature_names],label=data_train.Label.cat.codes,\n",
        "                    missing=-999.0,feature_names=feature_names)\n",
        "test = xgb.DMatrix(data=data_test[feature_names],label=data_test.Label.cat.codes,\n",
        "                   missing=-999.0,feature_names=feature_names)"
      ],
      "execution_count": 0,
      "outputs": [
        {
          "output_type": "stream",
          "text": [
            "/usr/local/lib/python3.6/dist-packages/xgboost/core.py:587: FutureWarning: Series.base is deprecated and will be removed in a future version\n",
            "  if getattr(data, 'base', None) is not None and \\\n",
            "/usr/local/lib/python3.6/dist-packages/xgboost/core.py:588: FutureWarning: Series.base is deprecated and will be removed in a future version\n",
            "  data.base is not None and isinstance(data, np.ndarray) \\\n"
          ],
          "name": "stderr"
        }
      ]
    },
    {
      "cell_type": "markdown",
      "metadata": {
        "id": "bb_sLCZvW7VH",
        "colab_type": "text"
      },
      "source": [
        "Check if we did it right:"
      ]
    },
    {
      "cell_type": "code",
      "metadata": {
        "id": "Pe7tm95BW7VL",
        "colab_type": "code",
        "outputId": "957d2f82-620e-4134-833e-e6ef5a94dd31",
        "colab": {
          "base_uri": "https://localhost:8080/",
          "height": 51
        }
      },
      "source": [
        "print('Number of training samples: {}'.format(train.num_row()))\n",
        "print('Number of testing samples: {}'.format(test.num_row()))\n",
        "\n"
      ],
      "execution_count": 0,
      "outputs": [
        {
          "output_type": "stream",
          "text": [
            "Number of training samples: 8000\n",
            "Number of testing samples: 2000\n"
          ],
          "name": "stdout"
        }
      ]
    },
    {
      "cell_type": "markdown",
      "metadata": {
        "id": "ciPXBKSwW7Vg",
        "colab_type": "text"
      },
      "source": [
        "### Make the model\n",
        "#### Set hyperparameters:\n",
        "The XGBoost hyperparameters are defined [here](https://github.com/dmlc/xgboost/blob/master/doc/parameter.md). For a nice description of what they all mean, and tips on tuning them, see [this guide](https://www.analyticsvidhya.com/blog/2016/03/complete-guide-parameter-tuning-xgboost-with-codes-python/).\n",
        "\n",
        "In general, the tunable parameters in XGBoost are the ones you would see in other gradient boosting libraries. Here, they fall into three categories:\n",
        "1. General parameters - Ex. :which booster to use, number of threads. I won't mess with any of these here.\n",
        "2. Booster parameters - Tune the actual boosting. Ex.: learning rate. These are the ones to optimize.\n",
        "3. Learning task parameters - Define the objective function and the evaluation metrics.\n",
        "\n",
        "Here, we will use the defaults for most parameters and just set a few to see how it's done. The parameters are passed in as a dictionary or list of pairs.\n",
        "\n",
        "Make the parameter dictionary:"
      ]
    },
    {
      "cell_type": "code",
      "metadata": {
        "id": "FcPIYvKvW7Vl",
        "colab_type": "code",
        "outputId": "8467c5e5-b1ec-4c92-eb43-dd46b1d0454e",
        "colab": {
          "base_uri": "https://localhost:8080/",
          "height": 54
        }
      },
      "source": [
        "param = {}\n",
        "\n",
        "# Boost5er parameters\n",
        "param['eta']              = 0.1 # learning rate\n",
        "param['max_depth']        = 8  # maximum depth of a tree\n",
        "param['subsample']        = 0.5 # fraction of events to train tree on\n",
        "param['colsample_bytree'] = 0.7 # fraction of features to train tree on\n",
        "\n",
        "# Learning task parameters\n",
        "param['objective']   = 'binary:logistic' # objective function\n",
        "param['eval_metric'] = 'error'           # evaluation metric for cross validation\n",
        "param = list(param.items()) + [('eval_metric', 'logloss')] + [('eval_metric', 'rmse')]\n",
        "print(param)\n",
        "num_trees = 150  # number of trees to make"
      ],
      "execution_count": 0,
      "outputs": [
        {
          "output_type": "stream",
          "text": [
            "[('eta', 0.1), ('max_depth', 8), ('subsample', 0.5), ('colsample_bytree', 0.7), ('objective', 'binary:logistic'), ('eval_metric', 'error'), ('eval_metric', 'logloss'), ('eval_metric', 'rmse')]\n"
          ],
          "name": "stdout"
        }
      ]
    },
    {
      "cell_type": "markdown",
      "metadata": {
        "id": "IhR68_WJW7Vs",
        "colab_type": "text"
      },
      "source": [
        "First, we set the booster parameters. Again, we just chose a few here to experiment with. These are the paraters to tune to optimize your model. Generally, there is a trade off between speed and accuracy.\n",
        "1. ```eta``` is the learning rate. It determines how much to change the data weights after each boosting iteration. The default is 0.3.\n",
        "2. ```max_depth``` is the maximum depth of any tree. The default is 6.\n",
        "3. ```subsample``` is the fraction of events used to train each new tree. These events are randomly sampled each iteration from the whole sample set. The default is 1 (use every event for each tree).\n",
        "4. ```colsample_bytree``` is the fraction of features available to train each new tree. These features are randomly sampled each iteration from the whole feature set. The default is 1.\n",
        "\n",
        "Next, we set the learning objective to ```binary:logistic```. So, we have two classes that we want to score from 0 to 1. The ```eval_metric``` parameters set what we want to monitor when doing cross validation. (We aren't doing cross validation in this example, but we really should be!) If you want to watch more than one metric, ```param``` must be a list of pairs, instead of a dict. Otherwise, we would just keep resetting the same parameter.\n",
        "\n",
        "Last, we set thenumber of trees to 100. Usually, you would set this number high, and choose a cut off point based on the cross validation. The number of trees is the same as the number of iterations."
      ]
    },
    {
      "cell_type": "markdown",
      "metadata": {
        "id": "xN_uCxaEW7Vx",
        "colab_type": "text"
      },
      "source": [
        "### Now train!"
      ]
    },
    {
      "cell_type": "code",
      "metadata": {
        "id": "3mkSXAqGW7V2",
        "colab_type": "code",
        "colab": {}
      },
      "source": [
        "booster = xgb.train(param,train,num_boost_round=num_trees)"
      ],
      "execution_count": 0,
      "outputs": []
    },
    {
      "cell_type": "markdown",
      "metadata": {
        "id": "mg9Y_auKW7V-",
        "colab_type": "text"
      },
      "source": [
        "We now have a trained model. The next step is to look at it's performance and try to improve the model if we need to. We can try to improve it by improving/adding features, adding more training data, using more boosting iterations, or tuning the hyperparameters (ideally in that order).\n",
        "\n",
        "#### Evaluate:\n",
        "First, let's look at how it does on the test set:"
      ]
    },
    {
      "cell_type": "code",
      "metadata": {
        "id": "XSgTM46FW7WC",
        "colab_type": "code",
        "outputId": "51e69187-5d1a-47d9-fe52-d6ea14baeb5a",
        "colab": {
          "base_uri": "https://localhost:8080/",
          "height": 34
        }
      },
      "source": [
        "print(booster.eval(test))"
      ],
      "execution_count": 0,
      "outputs": [
        {
          "output_type": "stream",
          "text": [
            "[0]\teval-error:0.171000\teval-logloss:0.385190\teval-rmse:0.347995\n"
          ],
          "name": "stdout"
        }
      ]
    },
    {
      "cell_type": "markdown",
      "metadata": {
        "id": "tFq9VV1nW7WJ",
        "colab_type": "text"
      },
      "source": [
        "These are the evaluation metrics that we stored in the parameter set.\n",
        "\n",
        "It's pretty hard to interpret the performance of a classifier from a few number. So, let's look at the predictions for the entire test set."
      ]
    },
    {
      "cell_type": "code",
      "metadata": {
        "id": "KkSs4HPrW7WS",
        "colab_type": "code",
        "colab": {}
      },
      "source": [
        "predictions = booster.predict(test)"
      ],
      "execution_count": 0,
      "outputs": []
    },
    {
      "cell_type": "code",
      "metadata": {
        "id": "yWA8NjUIW7WY",
        "colab_type": "code",
        "outputId": "7020bcbc-b423-43df-b9f5-4dc69654d0b0",
        "colab": {
          "base_uri": "https://localhost:8080/",
          "height": 555
        }
      },
      "source": [
        "# plot all predictions (both signal and background)\n",
        "plt.figure();\n",
        "plt.hist(predictions,bins=np.linspace(0,1,50),histtype='step',color='darkgreen',label='All events');\n",
        "# make the plot readable\n",
        "plt.xlabel('Prediction from BDT',fontsize=12);\n",
        "plt.ylabel('Events',fontsize=12);\n",
        "plt.legend(frameon=False);\n",
        "\n",
        "# plot signal and background separately\n",
        "plt.figure();\n",
        "plt.hist(predictions[test.get_label().astype(bool)],bins=np.linspace(0,1,50),\n",
        "         histtype='step',color='midnightblue',label='signal');\n",
        "plt.hist(predictions[~(test.get_label().astype(bool))],bins=np.linspace(0,1,50),\n",
        "         histtype='step',color='firebrick',label='background');\n",
        "# make the plot readable\n",
        "plt.xlabel('Prediction from BDT',fontsize=12);\n",
        "plt.ylabel('Events',fontsize=12);\n",
        "plt.legend(frameon=False);"
      ],
      "execution_count": 0,
      "outputs": [
        {
          "output_type": "display_data",
          "data": {
            "image/png": "[encoded data removed]",
            "text/plain": [
              "<Figure size 432x288 with 1 Axes>"
            ]
          },
          "metadata": {
            "tags": []
          }
        },
        {
          "output_type": "display_data",
          "data": {
            "image/png": "[encoded data removed]",
            "text/plain": [
              "<Figure size 432x288 with 1 Axes>"
            ]
          },
          "metadata": {
            "tags": []
          }
        }
      ]
    },
    {
      "cell_type": "code",
      "metadata": {
        "id": "_MJ-PiS7W7Wk",
        "colab_type": "code",
        "outputId": "e7502a7c-20f5-4cd5-c10d-59fe638ff8cd",
        "colab": {
          "base_uri": "https://localhost:8080/",
          "height": 340
        }
      },
      "source": [
        "# choose score cuts:\n",
        "cuts = np.linspace(0,1,500);\n",
        "nsignal = np.zeros(len(cuts));\n",
        "nbackground = np.zeros(len(cuts));\n",
        "for i,cut in enumerate(cuts):\n",
        "    nsignal[i] = len(np.where(predictions[test.get_label().astype(bool)] > cut)[0]);\n",
        "    nbackground[i] = len(np.where(predictions[~(test.get_label().astype(bool))] > cut)[0]);\n",
        "    \n",
        "# plot efficiency vs. purity (ROC curve)\n",
        "plt.figure();\n",
        "plt.scatter(nsignal/len(data_test[data_test.Label == 's']),nsignal/(nsignal + nbackground),c=cuts,cmap=\"cool\",label=\"ROC\");\n",
        "# make the plot readable\n",
        "plt.xlabel('Efficiency',fontsize=12);\n",
        "plt.ylabel('Purity',fontsize=12);\n",
        "plt.colorbar()\n",
        "plt.legend(frameon=False);"
      ],
      "execution_count": 0,
      "outputs": [
        {
          "output_type": "stream",
          "text": [
            "/usr/local/lib/python3.6/dist-packages/ipykernel_launcher.py:10: RuntimeWarning: invalid value encountered in true_divide\n",
            "  # Remove the CWD from sys.path while we load stuff.\n"
          ],
          "name": "stderr"
        },
        {
          "output_type": "display_data",
          "data": {
            "image/png": "[encoded data removed]",
            "text/plain": [
              "<Figure size 432x288 with 2 Axes>"
            ]
          },
          "metadata": {
            "tags": []
          }
        }
      ]
    },
    {
      "cell_type": "markdown",
      "metadata": {
        "id": "4xsfA-TkW7W1",
        "colab_type": "text"
      },
      "source": [
        "It's also very informative to look at the importance of each feature. The \"F score\" is the number of times each feature is used to split the data over all of the trees (times the weight of that tree).\n",
        "\n",
        "There is a built-in function in the XGBoost python API to easily plot this:"
      ]
    },
    {
      "cell_type": "code",
      "metadata": {
        "id": "nu0K5DrLW7W3",
        "colab_type": "code",
        "outputId": "a0d573f0-e813-4f0c-9c1d-3095cc69fc7f",
        "colab": {
          "base_uri": "https://localhost:8080/",
          "height": 295
        }
      },
      "source": [
        "xgb.plot_importance(booster,grid=False);"
      ],
      "execution_count": 0,
      "outputs": [
        {
          "output_type": "display_data",
          "data": {
            "image/png": "[encoded data removed]",
            "text/plain": [
              "<Figure size 432x288 with 1 Axes>"
            ]
          },
          "metadata": {
            "tags": []
          }
        }
      ]
    },
    {
      "cell_type": "markdown",
      "metadata": {
        "id": "ttdREgFlW7XZ",
        "colab_type": "text"
      },
      "source": [
        "The feature that was used the most was \"```DER_mass_MMC```. (For this data the \"DER\" prefix is for derived variables, and \"PRI\" is for raw variables.)\n",
        "\n",
        "We can plot how this feature is ditributed for the signal and background:"
      ]
    },
    {
      "cell_type": "code",
      "metadata": {
        "id": "ORn-fAnbW7Xa",
        "colab_type": "code",
        "outputId": "d3326b1d-a685-4d7e-b4a7-6d91aa8afd5f",
        "colab": {
          "base_uri": "https://localhost:8080/",
          "height": 286
        }
      },
      "source": [
        "plt.figure();\n",
        "plt.hist(data_train.DER_mass_MMC[data_train.Label == 's'],bins=np.linspace(0,800,50),\n",
        "         histtype='step',color='midnightblue',label='signal');\n",
        "plt.hist(data_train.DER_mass_MMC[data_train.Label == 'b'],bins=np.linspace(0,800,50),\n",
        "         histtype='step',color='firebrick',label='background');\n",
        "\n",
        "plt.xlabel('DER_mass_MMC',fontsize=12);\n",
        "plt.ylabel('Events',fontsize=12);\n",
        "plt.legend(frameon=False);"
      ],
      "execution_count": 0,
      "outputs": [
        {
          "output_type": "display_data",
          "data": {
            "image/png": "[encoded data removed]",
            "text/plain": [
              "<Figure size 432x288 with 1 Axes>"
            ]
          },
          "metadata": {
            "tags": []
          }
        }
      ]
    },
    {
      "cell_type": "markdown",
      "metadata": {
        "id": "5P5x1yEhW7Xh",
        "colab_type": "text"
      },
      "source": [
        "There is not a lot of discriminating power in that variable. For fun, we can plot it with the next most important feature:"
      ]
    },
    {
      "cell_type": "code",
      "metadata": {
        "id": "BpfbUqGeW7Xn",
        "colab_type": "code",
        "outputId": "bcf7a352-294b-47e2-8033-0cdd9126dd92",
        "colab": {
          "base_uri": "https://localhost:8080/",
          "height": 286
        }
      },
      "source": [
        "plt.figure();\n",
        "plt.plot(data_train.DER_mass_MMC[data_train.Label == 'b'],data_train.DER_mass_transverse_met_lep[data_train.Label == 'b'],\n",
        "         'o',markersize=2,color='firebrick',markeredgewidth=0,alpha=0.8,label='background');\n",
        "plt.plot(data_train.DER_mass_MMC[data_train.Label == 's'],data_train.DER_mass_transverse_met_lep[data_train.Label == 's'],\n",
        "         'o',markersize=2,color='mediumblue',markeredgewidth=0,alpha=0.8,label='signal');\n",
        "\n",
        "plt.xlim(0,400);\n",
        "plt.ylim(0,200);\n",
        "plt.xlabel('DER_mass_MMC',fontsize=12);\n",
        "plt.ylabel('DER_mass_transverse_met_lep',fontsize=12);\n",
        "plt.legend(frameon=False,numpoints=1,markerscale=2);"
      ],
      "execution_count": 0,
      "outputs": [
        {
          "output_type": "display_data",
          "data": {
            "image/png": "[encoded data removed]",
            "text/plain": [
              "<Figure size 432x288 with 1 Axes>"
            ]
          },
          "metadata": {
            "tags": []
          }
        }
      ]
    }
  ]
}